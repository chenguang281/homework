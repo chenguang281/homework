{
 "cells": [
  {
   "cell_type": "code",
   "execution_count": 112,
   "metadata": {},
   "outputs": [],
   "source": [
    "from sklearn.datasets import load_boston"
   ]
  },
  {
   "cell_type": "code",
   "execution_count": 113,
   "metadata": {},
   "outputs": [],
   "source": [
    "data = load_boston()"
   ]
  },
  {
   "cell_type": "code",
   "execution_count": 114,
   "metadata": {},
   "outputs": [],
   "source": [
    "x, y = data['data'], data['target']"
   ]
  },
  {
   "cell_type": "code",
   "execution_count": 115,
   "metadata": {},
   "outputs": [],
   "source": [
    "%matplotlib inline"
   ]
  },
  {
   "cell_type": "code",
   "execution_count": 116,
   "metadata": {},
   "outputs": [],
   "source": [
    "import matplotlib.pyplot as plt"
   ]
  },
  {
   "cell_type": "code",
   "execution_count": 117,
   "metadata": {},
   "outputs": [],
   "source": [
    "def draw_rm_and_price():\n",
    "    plt.scatter(x[:, 5], y)"
   ]
  },
  {
   "cell_type": "code",
   "execution_count": 118,
   "metadata": {},
   "outputs": [],
   "source": [
    "import random"
   ]
  },
  {
   "cell_type": "code",
   "execution_count": 119,
   "metadata": {},
   "outputs": [],
   "source": [
    "def price(rm, k, b):\n",
    "    \"\"\"f(x) = k * x + b\"\"\"\n",
    "    return k * rm + b  "
   ]
  },
  {
   "cell_type": "code",
   "execution_count": 120,
   "metadata": {},
   "outputs": [
    {
     "data": {
      "text/plain": [
       "<matplotlib.collections.PathCollection at 0x1a1c3c39e8>"
      ]
     },
     "execution_count": 120,
     "metadata": {},
     "output_type": "execute_result"
    },
    {
     "data": {
      "image/png": "[encoded data removed]",
      "text/plain": [
       "<Figure size 432x288 with 1 Axes>"
      ]
     },
     "metadata": {
      "needs_background": "light"
     },
     "output_type": "display_data"
    }
   ],
   "source": [
    "x_rm = x[:, 5]\n",
    "k = random.randint(-100, 100)\n",
    "b = random.randint(-100, 100)\n",
    "price_by_random_k_and_b = [price(r, k, b) for r in x_rm]\n",
    "\n",
    "draw_rm_and_price()\n",
    "plt.scatter(x_rm, price_by_random_k_and_b)"
   ]
  },
  {
   "cell_type": "code",
   "execution_count": 121,
   "metadata": {},
   "outputs": [],
   "source": [
    "def loss(y,y_hat):\n",
    "    return sum((y_i-y_hat_i)**2 for y_i, y_hat_i in zip(list(y), list(y_hat))) / len(y)"
   ]
  },
  {
   "cell_type": "markdown",
   "metadata": {},
   "source": [
    "## First-Method: Random generation: get best k and best b"
   ]
  },
  {
   "cell_type": "code",
   "execution_count": 122,
   "metadata": {},
   "outputs": [
    {
     "name": "stdout",
     "output_type": "stream",
     "text": [
      "When time is : 0, get best_k: 29.219361735245116 best_b: 51.71825620314979, and the loss is: 45534.69117274561\n",
      "When time is : 15, get best_k: -14.518023923025126 best_b: -46.485274913702646, and the loss is: 26001.284482700383\n",
      "When time is : 18, get best_k: 22.681802284885237 best_b: -20.12741309296527, and the loss is: 10111.793419826417\n",
      "When time is : 22, get best_k: 4.379482330799462 best_b: 57.302549717016916, and the loss is: 3935.0305848532735\n",
      "When time is : 28, get best_k: -8.555619999755379 best_b: 50.955750046511326, and the loss is: 839.6403628099689\n",
      "When time is : 29, get best_k: -10.076987524032305 best_b: 61.97383721727411, and the loss is: 795.5240035682237\n",
      "When time is : 92, get best_k: 9.803034361657254 best_b: -21.853491527293187, and the loss is: 340.4464050434632\n",
      "When time is : 213, get best_k: 0.8833750628466532 best_b: 6.22642649307987, and the loss is: 192.5442933407803\n",
      "When time is : 227, get best_k: -1.1831534496952116 best_b: 30.38754746108941, and the loss is: 95.89672147864752\n",
      "When time is : 239, get best_k: 0.04564176939452125 best_b: 20.537603957736778, and the loss is: 86.92971122161353\n",
      "When time is : 320, get best_k: 5.473746179370693 best_b: -8.811836520208942, and the loss is: 59.42511550601091\n"
     ]
    }
   ],
   "source": [
    "trying_times = 2000\n",
    "\n",
    "min_loss = float('inf')\n",
    "best_k, best_b = None, None\n",
    "\n",
    "for i in range(trying_times):\n",
    "    k = random.random() * 200 - 100\n",
    "    b = random.random() * 200 - 100\n",
    "    price_by_random_k_and_b = [price(r, k, b) for r in x_rm]\n",
    "\n",
    "    current_loss = loss(y, price_by_random_k_and_b)\n",
    "    \n",
    "    if current_loss < min_loss:\n",
    "        min_loss = current_loss\n",
    "        best_k, best_b = k, b\n",
    "        print('When time is : {}, get best_k: {} best_b: {}, and the loss is: {}'.format(i, best_k, best_b, min_loss))"
   ]
  },
  {
   "cell_type": "markdown",
   "metadata": {},
   "source": [
    "## 方法一图像"
   ]
  },
  {
   "cell_type": "code",
   "execution_count": 123,
   "metadata": {},
   "outputs": [
    {
     "data": {
      "text/plain": [
       "<matplotlib.collections.PathCollection at 0x1a1c979e10>"
      ]
     },
     "execution_count": 123,
     "metadata": {},
     "output_type": "execute_result"
    },
    {
     "data": {
      "image/png": "[encoded data removed]",
      "text/plain": [
       "<Figure size 432x288 with 1 Axes>"
      ]
     },
     "metadata": {
      "needs_background": "light"
     },
     "output_type": "display_data"
    }
   ],
   "source": [
    "x_rm = x[:, 5]\n",
    "k = 9.193791618649499\n",
    "b = -35.70327768273354\n",
    "price_by_random_k_and_b = [price(r, k, b) for r in x_rm]\n",
    "\n",
    "draw_rm_and_price()\n",
    "plt.scatter(x_rm, price_by_random_k_and_b)  "
   ]
  },
  {
   "cell_type": "markdown",
   "metadata": {},
   "source": [
    "## 2nd-Method: Direction Adjusting"
   ]
  },
  {
   "cell_type": "code",
   "execution_count": 124,
   "metadata": {},
   "outputs": [
    {
     "name": "stdout",
     "output_type": "stream",
     "text": [
      "When time is : 11, get best_k: -76.35823758014438 best_b: 69.41904966270499, and the loss is: 191128.7014648985\n",
      "When time is : 21, get best_k: -75.35823758014443 best_b: 68.41904966270505, and the loss is: 186496.44421183725\n",
      "When time is : 31, get best_k: -74.35823758014449 best_b: 67.4190496627051, and the loss is: 181921.02707042385\n",
      "When time is : 41, get best_k: -73.35823758014455 best_b: 66.41904966270516, and the loss is: 177402.45004065885\n",
      "When time is : 51, get best_k: -72.3582375801446 best_b: 65.41904966270522, and the loss is: 172940.71312254248\n",
      "When time is : 61, get best_k: -71.35823758014466 best_b: 64.41904966270528, and the loss is: 168535.8163160739\n",
      "When time is : 71, get best_k: -70.35823758014472 best_b: 63.41904966270529, and the loss is: 164187.75962125367\n",
      "When time is : 81, get best_k: -69.35823758014477 best_b: 62.41904966270528, and the loss is: 159896.54303808158\n",
      "When time is : 91, get best_k: -68.35823758014483 best_b: 61.41904966270526, and the loss is: 155662.16656655792\n",
      "When time is : 101, get best_k: -67.35823758014489 best_b: 60.41904966270525, and the loss is: 151484.63020668225\n",
      "When time is : 111, get best_k: -66.35823758014494 best_b: 59.419049662705234, and the loss is: 147363.93395845496\n",
      "When time is : 121, get best_k: -65.358237580145 best_b: 58.41904966270522, and the loss is: 143300.07782187572\n",
      "When time is : 131, get best_k: -64.35823758014506 best_b: 57.419049662705206, and the loss is: 139293.06179694485\n",
      "When time is : 141, get best_k: -63.358237580145065 best_b: 56.41904966270519, and the loss is: 135342.88588366183\n",
      "When time is : 151, get best_k: -62.35823758014505 best_b: 55.41904966270518, and the loss is: 131449.55008202707\n",
      "When time is : 161, get best_k: -61.35823758014504 best_b: 54.41904966270516, and the loss is: 127613.05439204043\n",
      "When time is : 171, get best_k: -60.35823758014502 best_b: 53.41904966270515, and the loss is: 123833.39881370204\n",
      "When time is : 181, get best_k: -59.35823758014501 best_b: 52.419049662705135, and the loss is: 120110.58334701188\n",
      "When time is : 191, get best_k: -58.358237580144994 best_b: 51.41904966270512, and the loss is: 116444.60799197007\n",
      "When time is : 201, get best_k: -57.35823758014498 best_b: 50.419049662705106, and the loss is: 112835.47274857629\n",
      "When time is : 211, get best_k: -56.358237580144966 best_b: 49.41904966270509, and the loss is: 109283.17761683083\n",
      "When time is : 221, get best_k: -55.35823758014495 best_b: 48.41904966270508, and the loss is: 105787.72259673363\n",
      "When time is : 231, get best_k: -54.35823758014494 best_b: 47.41904966270506, and the loss is: 102349.1076882846\n",
      "When time is : 241, get best_k: -53.35823758014492 best_b: 46.41904966270505, and the loss is: 98967.33289148372\n",
      "When time is : 251, get best_k: -52.35823758014491 best_b: 45.419049662705035, and the loss is: 95642.39820633092\n",
      "When time is : 261, get best_k: -51.358237580144895 best_b: 44.41904966270502, and the loss is: 92374.30363282668\n",
      "When time is : 271, get best_k: -50.35823758014488 best_b: 43.41904966270501, and the loss is: 89163.04917097064\n",
      "When time is : 281, get best_k: -49.358237580144866 best_b: 42.41904966270499, and the loss is: 86008.63482076269\n",
      "When time is : 291, get best_k: -48.35823758014485 best_b: 41.41904966270498, and the loss is: 82911.06058220295\n",
      "When time is : 301, get best_k: -47.35823758014484 best_b: 40.419049662704964, and the loss is: 79870.3264552916\n",
      "When time is : 311, get best_k: -46.358237580144824 best_b: 39.41904966270495, and the loss is: 76886.43244002823\n",
      "When time is : 321, get best_k: -45.35823758014481 best_b: 38.419049662704936, and the loss is: 73959.37853641313\n",
      "When time is : 331, get best_k: -44.358237580144795 best_b: 37.41904966270492, and the loss is: 71089.16474444633\n",
      "When time is : 341, get best_k: -43.35823758014478 best_b: 36.41904966270491, and the loss is: 68275.79106412774\n",
      "When time is : 351, get best_k: -42.35823758014477 best_b: 35.41904966270489, and the loss is: 65519.25749545742\n",
      "When time is : 361, get best_k: -41.35823758014475 best_b: 34.41904966270488, and the loss is: 62819.56403843529\n",
      "When time is : 371, get best_k: -40.35823758014474 best_b: 33.419049662704865, and the loss is: 60176.710693061315\n",
      "When time is : 381, get best_k: -39.358237580144724 best_b: 32.41904966270485, and the loss is: 57590.697459335635\n",
      "When time is : 391, get best_k: -38.35823758014471 best_b: 31.419049662704836, and the loss is: 55061.52433725816\n",
      "When time is : 401, get best_k: -37.358237580144696 best_b: 30.419049662704822, and the loss is: 52589.19132682891\n",
      "When time is : 411, get best_k: -36.35823758014468 best_b: 29.419049662704808, and the loss is: 50173.69842804787\n",
      "When time is : 421, get best_k: -35.35823758014467 best_b: 28.419049662704793, and the loss is: 47815.045640915145\n",
      "When time is : 431, get best_k: -34.35823758014465 best_b: 27.41904966270478, and the loss is: 45513.23296543057\n",
      "When time is : 441, get best_k: -33.35823758014464 best_b: 26.419049662704765, and the loss is: 43268.260401594176\n",
      "When time is : 451, get best_k: -32.358237580144625 best_b: 25.41904966270475, and the loss is: 41080.127949406036\n",
      "When time is : 461, get best_k: -31.35823758014461 best_b: 24.419049662704737, and the loss is: 38948.835608866095\n",
      "When time is : 471, get best_k: -30.358237580144596 best_b: 23.419049662704722, and the loss is: 36874.38337997439\n",
      "When time is : 481, get best_k: -29.358237580144582 best_b: 22.41904966270471, and the loss is: 34856.77126273092\n",
      "When time is : 491, get best_k: -28.358237580144568 best_b: 21.419049662704694, and the loss is: 32895.999257135685\n",
      "When time is : 501, get best_k: -27.358237580144554 best_b: 20.41904966270468, and the loss is: 30992.067363188635\n",
      "When time is : 511, get best_k: -26.35823758014454 best_b: 19.419049662704666, and the loss is: 29144.975580889844\n",
      "When time is : 521, get best_k: -25.358237580144525 best_b: 18.41904966270465, and the loss is: 27354.72391023931\n",
      "When time is : 531, get best_k: -24.35823758014451 best_b: 17.419049662704637, and the loss is: 25621.31235123694\n",
      "When time is : 541, get best_k: -23.358237580144497 best_b: 16.419049662704623, and the loss is: 23944.74090388281\n",
      "When time is : 551, get best_k: -22.358237580144483 best_b: 15.41904966270462, and the loss is: 22325.009568176898\n",
      "When time is : 561, get best_k: -21.35823758014447 best_b: 14.419049662704623, and the loss is: 20762.118344119182\n",
      "When time is : 571, get best_k: -20.358237580144454 best_b: 13.419049662704627, and the loss is: 19256.067231709752\n",
      "When time is : 581, get best_k: -19.35823758014444 best_b: 12.41904966270463, and the loss is: 17806.856230948484\n",
      "When time is : 591, get best_k: -18.358237580144426 best_b: 11.419049662704634, and the loss is: 16414.48534183549\n",
      "When time is : 601, get best_k: -17.35823758014441 best_b: 10.419049662704637, and the loss is: 15078.954564370699\n",
      "When time is : 611, get best_k: -16.358237580144397 best_b: 9.41904966270464, and the loss is: 13800.263898554114\n",
      "When time is : 621, get best_k: -15.358237580144396 best_b: 8.419049662704644, and the loss is: 12578.413344385785\n",
      "When time is : 631, get best_k: -14.358237580144399 best_b: 7.419049662704648, and the loss is: 11413.40290186569\n",
      "When time is : 641, get best_k: -13.358237580144403 best_b: 6.419049662704651, and the loss is: 10305.232570993807\n",
      "When time is : 651, get best_k: -12.358237580144406 best_b: 5.419049662704655, and the loss is: 9253.902351770133\n",
      "When time is : 661, get best_k: -11.35823758014441 best_b: 4.4190496627046585, and the loss is: 8259.412244194702\n",
      "When time is : 671, get best_k: -10.358237580144413 best_b: 3.4190496627046594, and the loss is: 7321.762248267491\n",
      "When time is : 681, get best_k: -9.358237580144417 best_b: 2.4190496627046585, and the loss is: 6440.952363988478\n",
      "When time is : 691, get best_k: -8.35823758014442 best_b: 1.4190496627046576, and the loss is: 5616.982591357711\n",
      "When time is : 701, get best_k: -7.358237580144424 best_b: 0.4190496627046574, and the loss is: 4849.852930375147\n",
      "When time is : 711, get best_k: -6.3582375801444275 best_b: -0.5809503372953426, and the loss is: 4139.563381040819\n",
      "When time is : 721, get best_k: -5.358237580144431 best_b: -1.580950337295343, and the loss is: 3486.1139433547073\n",
      "When time is : 731, get best_k: -4.358237580144435 best_b: -2.5809503372953437, and the loss is: 2889.504617316816\n",
      "When time is : 741, get best_k: -3.358237580144435 best_b: -3.5809503372953446, and the loss is: 2349.735402927142\n",
      "When time is : 751, get best_k: -2.358237580144434 best_b: -4.580950337295343, and the loss is: 1866.806300185689\n",
      "When time is : 761, get best_k: -1.3582375801444333 best_b: -5.58095033729534, and the loss is: 1440.717309092458\n",
      "When time is : 771, get best_k: -0.3582375801444332 best_b: -6.580950337295336, and the loss is: 1071.4684296474488\n",
      "When time is : 781, get best_k: 0.6417624198555668 best_b: -7.580950337295333, and the loss is: 759.0596618506589\n",
      "When time is : 791, get best_k: 1.6417624198555674 best_b: -8.580950337295329, and the loss is: 503.4910057020925\n",
      "When time is : 801, get best_k: 2.641762419855568 best_b: -9.580950337295326, and the loss is: 304.76246120174625\n",
      "When time is : 811, get best_k: 3.641762419855569 best_b: -10.580950337295322, and the loss is: 162.87402834962202\n",
      "When time is : 821, get best_k: 4.641762419855567 best_b: -11.580950337295318, and the loss is: 77.82570714571959\n",
      "When time is : 831, get best_k: 5.641762419855564 best_b: -12.580950337295315, and the loss is: 49.617497590038305\n"
     ]
    }
   ],
   "source": [
    "trying_times = 2000\n",
    "\n",
    "min_loss = float('inf')\n",
    "best_k = random.random() * 200 - 100\n",
    "best_b =  random.random() * 200 - 100\n",
    "\n",
    "direction = [\n",
    "    (+1, -1),  # first element: k's change direction, second element: b's change direction\n",
    "    (+1, +1), \n",
    "    (-1, -1), \n",
    "    (-1, +1),\n",
    "]\n",
    "\n",
    "scalar = 0.1\n",
    "\n",
    "update_time = 0\n",
    "\n",
    "next_direction = random.choice(direction)\n",
    "\n",
    "for i in range(trying_times):\n",
    "    \n",
    "    k_direction, b_direction = next_direction\n",
    "    \n",
    "    current_k, current_b = best_k + k_direction * scalar, best_b + b_direction * scalar\n",
    "    \n",
    "    price_by_random_k_and_b = [price(r, current_k, current_b) for r in x_rm]\n",
    "\n",
    "    current_loss = loss(y, price_by_random_k_and_b)\n",
    "    \n",
    "    if current_loss < min_loss:\n",
    "        min_loss = current_loss\n",
    "        best_k, best_b = current_k, current_b\n",
    "        next_direction = next_direction\n",
    "        update_time += 1\n",
    "\n",
    "        if update_time % 10 == 0: \n",
    "            print('When time is : {}, get best_k: {} best_b: {}, and the loss is: {}'.format(i, best_k, best_b, min_loss))\n",
    "    else:\n",
    "        next_direction = random.choice(direction)\n",
    "        \n",
    "        "
   ]
  },
  {
   "cell_type": "code",
   "execution_count": 125,
   "metadata": {},
   "outputs": [
    {
     "data": {
      "text/plain": [
       "<matplotlib.collections.PathCollection at 0x1a1c97a978>"
      ]
     },
     "execution_count": 125,
     "metadata": {},
     "output_type": "execute_result"
    },
    {
     "data": {
      "image/png": "[encoded data removed]",
      "text/plain": [
       "<Figure size 432x288 with 1 Axes>"
      ]
     },
     "metadata": {
      "needs_background": "light"
     },
     "output_type": "display_data"
    }
   ],
   "source": [
    "x_rm = x[:, 5]\n",
    "k = 5.641762419855564\n",
    "b = -12.580950337295315\n",
    "price_by_random_k_and_b = [price(r, k, b) for r in x_rm]\n",
    "\n",
    "draw_rm_and_price()\n",
    "plt.scatter(x_rm, price_by_random_k_and_b)  "
   ]
  },
  {
   "cell_type": "markdown",
   "metadata": {},
   "source": [
    "## 导数"
   ]
  },
  {
   "cell_type": "code",
   "execution_count": 126,
   "metadata": {},
   "outputs": [],
   "source": [
    "def partial_k(x, y, y_hat):\n",
    "    n = len(y)\n",
    "\n",
    "    gradient = 0\n",
    "    \n",
    "    for x_i, y_i, y_hat_i in zip(list(x), list(y), list(y_hat)):\n",
    "        gradient += (y_i - y_hat_i) * x_i\n",
    "    \n",
    "    return -2 / n * gradient\n",
    "\n",
    "\n",
    "def partial_b(x, y, y_hat):\n",
    "    n = len(y)\n",
    "\n",
    "    gradient = 0\n",
    "    \n",
    "    for y_i, y_hat_i in zip(list(y), list(y_hat)):\n",
    "        gradient += (y_i - y_hat_i)\n",
    "    \n",
    "    return -2 / n * gradient"
   ]
  },
  {
   "cell_type": "code",
   "execution_count": 134,
   "metadata": {},
   "outputs": [
    {
     "name": "stdout",
     "output_type": "stream",
     "text": [
      "When time is : 0, get best_k: 5.641762419855564 best_b: -12.580950337295315, and the loss is: 123645.7531011396\n",
      "When time is : 50, get best_k: 5.641762419855564 best_b: -12.580950337295315, and the loss is: 93.25708626875631\n",
      "When time is : 100, get best_k: 5.641762419855564 best_b: -12.580950337295315, and the loss is: 92.07708718137627\n",
      "When time is : 150, get best_k: 5.641762419855564 best_b: -12.580950337295315, and the loss is: 90.92512867033322\n",
      "When time is : 200, get best_k: 5.641762419855564 best_b: -12.580950337295315, and the loss is: 89.80054440128046\n",
      "When time is : 250, get best_k: 5.641762419855564 best_b: -12.580950337295315, and the loss is: 88.70268387411973\n",
      "When time is : 300, get best_k: 5.641762419855564 best_b: -12.580950337295315, and the loss is: 87.6309120467289\n",
      "When time is : 350, get best_k: 5.641762419855564 best_b: -12.580950337295315, and the loss is: 86.58460896763059\n",
      "When time is : 400, get best_k: 5.641762419855564 best_b: -12.580950337295315, and the loss is: 85.56316941739\n",
      "When time is : 450, get best_k: 5.641762419855564 best_b: -12.580950337295315, and the loss is: 84.56600255853432\n",
      "When time is : 500, get best_k: 5.641762419855564 best_b: -12.580950337295315, and the loss is: 83.59253159379048\n",
      "When time is : 550, get best_k: 5.641762419855564 best_b: -12.580950337295315, and the loss is: 82.6421934324452\n",
      "When time is : 600, get best_k: 5.641762419855564 best_b: -12.580950337295315, and the loss is: 81.71443836463301\n",
      "When time is : 650, get best_k: 5.641762419855564 best_b: -12.580950337295315, and the loss is: 80.8087297433642\n",
      "When time is : 700, get best_k: 5.641762419855564 best_b: -12.580950337295315, and the loss is: 79.92454367410888\n",
      "When time is : 750, get best_k: 5.641762419855564 best_b: -12.580950337295315, and the loss is: 79.06136871175717\n",
      "When time is : 800, get best_k: 5.641762419855564 best_b: -12.580950337295315, and the loss is: 78.21870556478143\n",
      "When time is : 850, get best_k: 5.641762419855564 best_b: -12.580950337295315, and the loss is: 77.39606680642773\n",
      "When time is : 900, get best_k: 5.641762419855564 best_b: -12.580950337295315, and the loss is: 76.59297659277055\n",
      "When time is : 950, get best_k: 5.641762419855564 best_b: -12.580950337295315, and the loss is: 75.8089703874676\n",
      "When time is : 1000, get best_k: 5.641762419855564 best_b: -12.580950337295315, and the loss is: 75.04359469305544\n",
      "When time is : 1050, get best_k: 5.641762419855564 best_b: -12.580950337295315, and the loss is: 74.29640678863011\n",
      "When time is : 1100, get best_k: 5.641762419855564 best_b: -12.580950337295315, and the loss is: 73.56697447376102\n",
      "When time is : 1150, get best_k: 5.641762419855564 best_b: -12.580950337295315, and the loss is: 72.85487581849094\n",
      "When time is : 1200, get best_k: 5.641762419855564 best_b: -12.580950337295315, and the loss is: 72.15969891927658\n",
      "When time is : 1250, get best_k: 5.641762419855564 best_b: -12.580950337295315, and the loss is: 71.48104166072878\n",
      "When time is : 1300, get best_k: 5.641762419855564 best_b: -12.580950337295315, and the loss is: 70.81851148301386\n",
      "When time is : 1350, get best_k: 5.641762419855564 best_b: -12.580950337295315, and the loss is: 70.17172515478379\n",
      "When time is : 1400, get best_k: 5.641762419855564 best_b: -12.580950337295315, and the loss is: 69.54030855150066\n",
      "When time is : 1450, get best_k: 5.641762419855564 best_b: -12.580950337295315, and the loss is: 68.92389643902943\n",
      "When time is : 1500, get best_k: 5.641762419855564 best_b: -12.580950337295315, and the loss is: 68.32213226237441\n",
      "When time is : 1550, get best_k: 5.641762419855564 best_b: -12.580950337295315, and the loss is: 67.73466793943349\n",
      "When time is : 1600, get best_k: 5.641762419855564 best_b: -12.580950337295315, and the loss is: 67.16116365965618\n",
      "When time is : 1650, get best_k: 5.641762419855564 best_b: -12.580950337295315, and the loss is: 66.60128768748409\n",
      "When time is : 1700, get best_k: 5.641762419855564 best_b: -12.580950337295315, and the loss is: 66.05471617046375\n",
      "When time is : 1750, get best_k: 5.641762419855564 best_b: -12.580950337295315, and the loss is: 65.52113295191799\n",
      "When time is : 1800, get best_k: 5.641762419855564 best_b: -12.580950337295315, and the loss is: 65.00022938807022\n",
      "When time is : 1850, get best_k: 5.641762419855564 best_b: -12.580950337295315, and the loss is: 64.49170416951321\n",
      "When time is : 1900, get best_k: 5.641762419855564 best_b: -12.580950337295315, and the loss is: 63.99526314692104\n",
      "When time is : 1950, get best_k: 5.641762419855564 best_b: -12.580950337295315, and the loss is: 63.5106191609027\n"
     ]
    }
   ],
   "source": [
    "trying_times = 2000\n",
    "\n",
    "# X, y = data['data'], data['target']\n",
    "\n",
    "min_loss = float('inf') \n",
    "\n",
    "current_k = random.random() * 200 - 100\n",
    "current_b = random.random() * 200 - 100\n",
    "\n",
    "learning_rate = 1e-02\n",
    "\n",
    "update_time = 0\n",
    "\n",
    "for i in range(trying_times):\n",
    "    \n",
    "    price_by_k_and_b = [price(r, current_k, current_b) for r in x_rm]\n",
    "    \n",
    "    current_loss = loss(y, price_by_k_and_b)\n",
    "\n",
    "    if current_loss < min_loss: # performance became better\n",
    "        min_loss = current_loss\n",
    "        \n",
    "        if i % 50 == 0: \n",
    "            print('When time is : {}, get best_k: {} best_b: {}, and the loss is: {}'.format(i, best_k, best_b, min_loss))\n",
    "\n",
    "    k_gradient = partial_k(x_rm, y, price_by_k_and_b)\n",
    "    \n",
    "    b_gradient = partial_b(x_rm, y, price_by_k_and_b)\n",
    "    \n",
    "    current_k = current_k + (-1 * k_gradient) * learning_rate\n",
    "\n",
    "    current_b = current_b + (-1 * b_gradient) * learning_rate"
   ]
  },
  {
   "cell_type": "markdown",
   "metadata": {},
   "source": [
    "## 图像"
   ]
  },
  {
   "cell_type": "code",
   "execution_count": 129,
   "metadata": {},
   "outputs": [
    {
     "data": {
      "text/plain": [
       "<matplotlib.collections.PathCollection at 0x1a1c94c978>"
      ]
     },
     "execution_count": 129,
     "metadata": {},
     "output_type": "execute_result"
    },
    {
     "data": {
      "image/png": "[encoded data removed]",
      "text/plain": [
       "<Figure size 432x288 with 1 Axes>"
      ]
     },
     "metadata": {
      "needs_background": "light"
     },
     "output_type": "display_data"
    }
   ],
   "source": [
    "x_rm = x[:, 5]\n",
    "k = 5.641762419855564\n",
    "b = -12.580950337295315\n",
    "price_by_random_k_and_b = [price(r, k, b) for r in x_rm]\n",
    "\n",
    "draw_rm_and_price()\n",
    "plt.scatter(x_rm, price_by_random_k_and_b)  "
   ]
  },
  {
   "cell_type": "markdown",
   "metadata": {},
   "source": [
    "## 绝对值求导"
   ]
  },
  {
   "cell_type": "code",
   "execution_count": 143,
   "metadata": {},
   "outputs": [],
   "source": [
    "def abs_k(x, y, y_hat):\n",
    "    n = len(y)\n",
    "\n",
    "    gradient = 0\n",
    "    \n",
    "    for x_i, y_i, y_hat_i in zip(list(x), list(y), list(y_hat)):\n",
    "        if y_i - y_hat_i > 0 :\n",
    "            gradient += x_i\n",
    "        elif y_i - y_hat_i < 0 :\n",
    "            gradient += -x_i\n",
    "        else:\n",
    "            continue\n",
    "    \n",
    "    return -1 * gradient / n \n",
    "\n",
    "\n",
    "def abs_b(x, y, y_hat):\n",
    "    n = len(y)\n",
    "\n",
    "    gradient = 0\n",
    "    \n",
    "    for y_i, y_hat_i in zip(list(y), list(y_hat)):\n",
    "        if y_i - y_hat_i > 0 :\n",
    "            gradient += 1\n",
    "        elif y_i - y_hat_i < 0 :\n",
    "            gradient += -1\n",
    "        else:\n",
    "            continue\n",
    "    \n",
    "    return -1 / n * gradient"
   ]
  },
  {
   "cell_type": "code",
   "execution_count": 155,
   "metadata": {},
   "outputs": [
    {
     "name": "stdout",
     "output_type": "stream",
     "text": [
      "When time is : 0, get best_k: 5.641762419855564 best_b: -12.580950337295315, and the loss is: 11168.095617627774\n",
      "When time is : 50, get best_k: 5.641762419855564 best_b: -12.580950337295315, and the loss is: 7286.923704871036\n",
      "When time is : 100, get best_k: 5.641762419855564 best_b: -12.580950337295315, and the loss is: 4235.4701879686445\n",
      "When time is : 150, get best_k: 5.641762419855564 best_b: -12.580950337295315, and the loss is: 2013.7350669205425\n",
      "When time is : 200, get best_k: 5.641762419855564 best_b: -12.580950337295315, and the loss is: 621.7183417267515\n",
      "When time is : 250, get best_k: 5.641762419855564 best_b: -12.580950337295315, and the loss is: 77.40313477623133\n",
      "When time is : 300, get best_k: 5.641762419855564 best_b: -12.580950337295315, and the loss is: 46.40587523377138\n",
      "When time is : 350, get best_k: 5.641762419855564 best_b: -12.580950337295315, and the loss is: 46.36628202363456\n",
      "When time is : 400, get best_k: 5.641762419855564 best_b: -12.580950337295315, and the loss is: 46.35912426360239\n",
      "When time is : 450, get best_k: 5.641762419855564 best_b: -12.580950337295315, and the loss is: 46.35422982655673\n",
      "When time is : 600, get best_k: 5.641762419855564 best_b: -12.580950337295315, and the loss is: 46.34031442063937\n",
      "When time is : 650, get best_k: 5.641762419855564 best_b: -12.580950337295315, and the loss is: 46.335436384555194\n",
      "When time is : 800, get best_k: 5.641762419855564 best_b: -12.580950337295315, and the loss is: 46.321570561348466\n",
      "When time is : 850, get best_k: 5.641762419855564 best_b: -12.580950337295315, and the loss is: 46.316708926225836\n",
      "When time is : 1000, get best_k: 5.641762419855564 best_b: -12.580950337295315, and the loss is: 46.30289268572987\n",
      "When time is : 1050, get best_k: 5.641762419855564 best_b: -12.580950337295315, and the loss is: 46.29804745156879\n",
      "When time is : 1200, get best_k: 5.641762419855564 best_b: -12.580950337295315, and the loss is: 46.2842807937835\n",
      "When time is : 1250, get best_k: 5.641762419855564 best_b: -12.580950337295315, and the loss is: 46.27945196058391\n",
      "When time is : 1400, get best_k: 5.641762419855564 best_b: -12.580950337295315, and the loss is: 46.265734885509296\n",
      "When time is : 1450, get best_k: 5.641762419855564 best_b: -12.580950337295315, and the loss is: 46.26092245327121\n",
      "When time is : 1600, get best_k: 5.641762419855564 best_b: -12.580950337295315, and the loss is: 46.24725496090733\n",
      "When time is : 1650, get best_k: 5.641762419855564 best_b: -12.580950337295315, and the loss is: 46.24245892963085\n",
      "When time is : 1800, get best_k: 5.641762419855564 best_b: -12.580950337295315, and the loss is: 46.22884101997754\n",
      "When time is : 1850, get best_k: 5.641762419855564 best_b: -12.580950337295315, and the loss is: 46.22406138966256\n"
     ]
    }
   ],
   "source": [
    "trying_times = 2000\n",
    "\n",
    "# X, y = data['data'], data['target']\n",
    "\n",
    "min_loss = float('inf') \n",
    "\n",
    "current_k = random.random() * 200 - 100\n",
    "current_b = random.random() * 200 - 100\n",
    "\n",
    "learning_rate = 1e-02\n",
    "\n",
    "update_time = 0\n",
    "\n",
    "for i in range(trying_times):\n",
    "    \n",
    "    price_by_k_and_b = [price(r, current_k, current_b) for r in x_rm]\n",
    "    \n",
    "    current_loss = loss(y, price_by_k_and_b)\n",
    "\n",
    "    if current_loss < min_loss: # performance became better\n",
    "        min_loss = current_loss\n",
    "        \n",
    "        if i % 50 == 0: \n",
    "            print('When time is : {}, get best_k: {} best_b: {}, and the loss is: {}'.format(i, best_k, best_b, min_loss))\n",
    "\n",
    "    k_gradient = abs_k(x_rm, y, price_by_k_and_b)\n",
    "    \n",
    "    b_gradient = abs_b(x_rm, y, price_by_k_and_b)\n",
    "    \n",
    "    current_k = current_k + (-1 * k_gradient) * learning_rate\n",
    "\n",
    "    current_b = current_b + (-1 * b_gradient) * learning_rate"
   ]
  },
  {
   "cell_type": "code",
   "execution_count": 154,
   "metadata": {},
   "outputs": [
    {
     "data": {
      "text/plain": [
       "<matplotlib.collections.PathCollection at 0x1a1d597c18>"
      ]
     },
     "execution_count": 154,
     "metadata": {},
     "output_type": "execute_result"
    },
    {
     "data": {
      "image/png": "[encoded data removed]",
      "text/plain": [
       "<Figure size 432x288 with 1 Axes>"
      ]
     },
     "metadata": {
      "needs_background": "light"
     },
     "output_type": "display_data"
    }
   ],
   "source": [
    "x_rm = x[:, 5]\n",
    "k = 5.641762419855564\n",
    "b = -12.580950337295315\n",
    "price_by_random_k_and_b = [price(r, k, b) for r in x_rm]\n",
    "\n",
    "draw_rm_and_price()\n",
    "plt.scatter(x_rm, price_by_random_k_and_b)  "
   ]
  },
  {
   "cell_type": "code",
   "execution_count": null,
   "metadata": {},
   "outputs": [],
   "source": []
  }
 ],
 "metadata": {
  "kernelspec": {
   "display_name": "Python 3",
   "language": "python",
   "name": "python3"
  },
  "language_info": {
   "codemirror_mode": {
    "name": "ipython",
    "version": 3
   },
   "file_extension": ".py",
   "mimetype": "text/x-python",
   "name": "python",
   "nbconvert_exporter": "python",
   "pygments_lexer": "ipython3",
   "version": "3.7.1"
  }
 },
 "nbformat": 4,
 "nbformat_minor": 2
}
