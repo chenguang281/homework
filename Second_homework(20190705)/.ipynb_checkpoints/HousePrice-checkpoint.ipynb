{
 "cells": [
  {
   "cell_type": "code",
   "execution_count": 1,
   "metadata": {},
   "outputs": [],
   "source": [
    "from sklearn.datasets import load_boston"
   ]
  },
  {
   "cell_type": "code",
   "execution_count": 2,
   "metadata": {},
   "outputs": [],
   "source": [
    "data = load_boston()"
   ]
  },
  {
   "cell_type": "code",
   "execution_count": 3,
   "metadata": {},
   "outputs": [],
   "source": [
    "x, y = data['data'], data['target']"
   ]
  },
  {
   "cell_type": "code",
   "execution_count": 4,
   "metadata": {},
   "outputs": [],
   "source": [
    "%matplotlib inline"
   ]
  },
  {
   "cell_type": "code",
   "execution_count": 5,
   "metadata": {},
   "outputs": [],
   "source": [
    "import matplotlib.pyplot as plt"
   ]
  },
  {
   "cell_type": "code",
   "execution_count": 13,
   "metadata": {},
   "outputs": [],
   "source": [
    "def draw_rm_and_price():\n",
    "    plt.scatter(x[:, 5], y)"
   ]
  },
  {
   "cell_type": "code",
   "execution_count": 14,
   "metadata": {},
   "outputs": [],
   "source": [
    "import random"
   ]
  },
  {
   "cell_type": "code",
   "execution_count": 19,
   "metadata": {},
   "outputs": [],
   "source": [
    "def price(rm, k, b):\n",
    "    \"\"\"f(x) = k * x + b\"\"\"\n",
    "    return k * rm + b  "
   ]
  },
  {
   "cell_type": "code",
   "execution_count": 22,
   "metadata": {},
   "outputs": [
    {
     "data": {
      "text/plain": [
       "<matplotlib.collections.PathCollection at 0x1a1ace8ef0>"
      ]
     },
     "execution_count": 22,
     "metadata": {},
     "output_type": "execute_result"
    },
    {
     "data": {
      "image/png": "[encoded data removed]",
      "text/plain": [
       "<Figure size 432x288 with 1 Axes>"
      ]
     },
     "metadata": {
      "needs_background": "light"
     },
     "output_type": "display_data"
    }
   ],
   "source": [
    "x_rm = x[:, 5]\n",
    "k = random.randint(-100, 100)\n",
    "b = random.randint(-100, 100)\n",
    "price_by_random_k_and_b = [price(r, k, b) for r in x_rm]\n",
    "\n",
    "draw_rm_and_price()\n",
    "plt.scatter(x_rm, price_by_random_k_and_b)"
   ]
  },
  {
   "cell_type": "code",
   "execution_count": 28,
   "metadata": {},
   "outputs": [],
   "source": [
    "def loss(y,y_hat):\n",
    "    return sum((y_i-y_hat_i)**2 for y_i, y_hat_i in zip(list(y), list(y_hat))) / len(y)"
   ]
  },
  {
   "cell_type": "markdown",
   "metadata": {},
   "source": [
    "## First-Method: Random generation: get best k and best b"
   ]
  },
  {
   "cell_type": "code",
   "execution_count": 32,
   "metadata": {},
   "outputs": [
    {
     "name": "stdout",
     "output_type": "stream",
     "text": [
      "When time is : 0, get best_k: 34.37849177199743 best_b: -72.0170357562501, and the loss is: 15122.188869945974\n",
      "When time is : 3, get best_k: 4.304910071355735 best_b: -29.53339022498551, and the loss is: 680.5096688262051\n",
      "When time is : 19, get best_k: 1.0182510797595086 best_b: 36.325604960774, and the loss is: 483.519863620779\n",
      "When time is : 24, get best_k: 11.069564347216755 best_b: -33.05952383763983, and the loss is: 240.83166855828551\n",
      "When time is : 100, get best_k: 18.143107775775817 best_b: -83.80089050334843, and the loss is: 142.99558337279126\n",
      "When time is : 119, get best_k: 16.470219099533495 best_b: -75.49729288869727, and the loss is: 100.37020494316927\n",
      "When time is : 354, get best_k: 4.073299108730026 best_b: -1.0034167125310631, and the loss is: 60.3161419771681\n",
      "When time is : 418, get best_k: 7.17751803832121 best_b: -25.007816083747116, and the loss is: 51.34279835366271\n",
      "When time is : 496, get best_k: 11.692555669773299 best_b: -51.67961820372393, and the loss is: 47.43816284683563\n",
      "When time is : 1527, get best_k: 8.738251569781369 best_b: -31.608955308581656, and the loss is: 44.26633552015056\n",
      "When time is : 1947, get best_k: 9.193791618649499 best_b: -35.70327768273354, and the loss is: 43.81305356430343\n"
     ]
    }
   ],
   "source": [
    "trying_times = 2000\n",
    "\n",
    "min_loss = float('inf')\n",
    "best_k, best_b = None, None\n",
    "\n",
    "for i in range(trying_times):\n",
    "    k = random.random() * 200 - 100\n",
    "    b = random.random() * 200 - 100\n",
    "    price_by_random_k_and_b = [price(r, k, b) for r in x_rm]\n",
    "\n",
    "    current_loss = loss(y, price_by_random_k_and_b)\n",
    "    \n",
    "    if current_loss < min_loss:\n",
    "        min_loss = current_loss\n",
    "        best_k, best_b = k, b\n",
    "        print('When time is : {}, get best_k: {} best_b: {}, and the loss is: {}'.format(i, best_k, best_b, min_loss))"
   ]
  },
  {
   "cell_type": "markdown",
   "metadata": {},
   "source": [
    "## 方法一图像"
   ]
  },
  {
   "cell_type": "code",
   "execution_count": 33,
   "metadata": {},
   "outputs": [
    {
     "data": {
      "text/plain": [
       "<matplotlib.collections.PathCollection at 0x1a1ae61a20>"
      ]
     },
     "execution_count": 33,
     "metadata": {},
     "output_type": "execute_result"
    },
    {
     "data": {
      "image/png": "[encoded data removed]",
      "text/plain": [
       "<Figure size 432x288 with 1 Axes>"
      ]
     },
     "metadata": {
      "needs_background": "light"
     },
     "output_type": "display_data"
    }
   ],
   "source": [
    "x_rm = x[:, 5]\n",
    "k = 9.193791618649499\n",
    "b = -35.70327768273354\n",
    "price_by_random_k_and_b = [price(r, k, b) for r in x_rm]\n",
    "\n",
    "draw_rm_and_price()\n",
    "plt.scatter(x_rm, price_by_random_k_and_b)  "
   ]
  },
  {
   "cell_type": "markdown",
   "metadata": {},
   "source": [
    "## 2nd-Method: Direction Adjusting"
   ]
  },
  {
   "cell_type": "code",
   "execution_count": 46,
   "metadata": {},
   "outputs": [
    {
     "name": "stdout",
     "output_type": "stream",
     "text": [
      "When time is : 11, get best_k: 21.113857774606274 best_b: 79.5557318149929, and the loss is: 36106.77322724084\n",
      "When time is : 21, get best_k: 20.11385777460626 best_b: 78.55573181499295, and the loss is: 33384.47504651751\n",
      "When time is : 31, get best_k: 19.113857774606245 best_b: 77.55573181499301, and the loss is: 30769.294052541198\n",
      "When time is : 41, get best_k: 18.11385777460623 best_b: 76.55573181499307, and the loss is: 28261.230245311894\n",
      "When time is : 51, get best_k: 17.113857774606217 best_b: 75.55573181499312, and the loss is: 25860.28362482966\n",
      "When time is : 61, get best_k: 16.113857774606203 best_b: 74.55573181499318, and the loss is: 23566.454191094417\n",
      "When time is : 71, get best_k: 15.113857774606204 best_b: 73.55573181499324, and the loss is: 21379.7419441063\n",
      "When time is : 81, get best_k: 14.113857774606208 best_b: 72.5557318149933, and the loss is: 19300.146883865185\n",
      "When time is : 91, get best_k: 13.113857774606211 best_b: 71.55573181499335, and the loss is: 17327.6690103711\n",
      "When time is : 101, get best_k: 12.113857774606215 best_b: 70.55573181499341, and the loss is: 15462.308323624055\n",
      "When time is : 111, get best_k: 11.113857774606219 best_b: 69.55573181499346, and the loss is: 13704.064823624063\n",
      "When time is : 121, get best_k: 10.113857774606222 best_b: 68.55573181499352, and the loss is: 12052.938510371068\n",
      "When time is : 131, get best_k: 9.113857774606226 best_b: 67.55573181499358, and the loss is: 10508.929383865125\n",
      "When time is : 141, get best_k: 8.11385777460623 best_b: 66.55573181499363, and the loss is: 9072.037444106218\n",
      "When time is : 151, get best_k: 7.113857774606233 best_b: 65.55573181499369, and the loss is: 7742.262691094337\n",
      "When time is : 161, get best_k: 6.113857774606236 best_b: 64.55573181499375, and the loss is: 6519.605124829498\n",
      "When time is : 171, get best_k: 5.11385777460624 best_b: 63.55573181499377, and the loss is: 5404.06474531168\n",
      "When time is : 181, get best_k: 4.1138577746062435 best_b: 62.555731814993756, and the loss is: 4395.641552540891\n",
      "When time is : 191, get best_k: 3.113857774606243 best_b: 61.55573181499374, and the loss is: 3494.335546517136\n",
      "When time is : 201, get best_k: 2.113857774606242 best_b: 60.55573181499373, and the loss is: 2700.146727240417\n",
      "When time is : 211, get best_k: 1.1138577746062412 best_b: 59.55573181499371, and the loss is: 2013.075094710734\n",
      "When time is : 221, get best_k: 0.1138577746062413 best_b: 58.5557318149937, and the loss is: 1433.1206489280912\n",
      "When time is : 231, get best_k: -0.8861422253937586 best_b: 57.555731814993685, and the loss is: 960.2833898924806\n",
      "When time is : 241, get best_k: -1.8861422253937594 best_b: 56.55573181499367, and the loss is: 594.5633176039061\n",
      "When time is : 251, get best_k: -2.88614222539376 best_b: 55.555731814993656, and the loss is: 335.96043206236783\n",
      "When time is : 261, get best_k: -3.886142225393761 best_b: 54.55573181499364, and the loss is: 184.47473326786596\n"
     ]
    }
   ],
   "source": [
    "trying_times = 2000\n",
    "\n",
    "min_loss = float('inf')\n",
    "best_k, best_b = random.random() * 200 - 100, random.random() * 200 - 100\n",
    "\n",
    "direction = [\n",
    "    (+1, -1),  # first element: k's change direction, second element: b's change direction\n",
    "    (+1, +1), \n",
    "    (-1, -1), \n",
    "    (-1, +1),\n",
    "]\n",
    "\n",
    "scalar = 0.1\n",
    "\n",
    "update_time = 0\n",
    "\n",
    "next_direction = random.choice(direction)\n",
    "\n",
    "for i in range(trying_times):\n",
    "    \n",
    "    k_direction, b_direction = next_direction\n",
    "    \n",
    "    current_k, current_b = best_k + k_direction * scalar, best_b + b_direction * scalar\n",
    "    \n",
    "    price_by_random_k_and_b = [price(r, current_k, current_b) for r in x_rm]\n",
    "\n",
    "    current_loss = loss(y, price_by_random_k_and_b)\n",
    "    \n",
    "    if current_loss < min_loss:\n",
    "        min_loss = current_loss\n",
    "        best_k, best_b = current_k, current_b\n",
    "        next_direction = next_direction\n",
    "        update_time += 1\n",
    "        \n",
    "        if update_time % 10 == 0: \n",
    "            print('When time is : {}, get best_k: {} best_b: {}, and the loss is: {}'.format(i, best_k, best_b, min_loss))\n",
    "    else:\n",
    "        next_direction = random.choice(direction)"
   ]
  },
  {
   "cell_type": "code",
   "execution_count": null,
   "metadata": {},
   "outputs": [],
   "source": []
  }
 ],
 "metadata": {
  "kernelspec": {
   "display_name": "Python 3",
   "language": "python",
   "name": "python3"
  },
  "language_info": {
   "codemirror_mode": {
    "name": "ipython",
    "version": 3
   },
   "file_extension": ".py",
   "mimetype": "text/x-python",
   "name": "python",
   "nbconvert_exporter": "python",
   "pygments_lexer": "ipython3",
   "version": "3.7.1"
  }
 },
 "nbformat": 4,
 "nbformat_minor": 2
}
