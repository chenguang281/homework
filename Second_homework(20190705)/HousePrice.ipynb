{
 "cells": [
  {
   "cell_type": "code",
   "execution_count": 156,
   "metadata": {},
   "outputs": [],
   "source": [
    "from sklearn.datasets import load_boston"
   ]
  },
  {
   "cell_type": "code",
   "execution_count": 157,
   "metadata": {},
   "outputs": [],
   "source": [
    "data = load_boston()"
   ]
  },
  {
   "cell_type": "code",
   "execution_count": 158,
   "metadata": {},
   "outputs": [],
   "source": [
    "x, y = data['data'], data['target']"
   ]
  },
  {
   "cell_type": "code",
   "execution_count": 159,
   "metadata": {},
   "outputs": [],
   "source": [
    "%matplotlib inline"
   ]
  },
  {
   "cell_type": "code",
   "execution_count": 160,
   "metadata": {},
   "outputs": [],
   "source": [
    "import matplotlib.pyplot as plt"
   ]
  },
  {
   "cell_type": "code",
   "execution_count": 161,
   "metadata": {},
   "outputs": [],
   "source": [
    "def draw_rm_and_price():\n",
    "    plt.scatter(x[:, 5], y)"
   ]
  },
  {
   "cell_type": "code",
   "execution_count": 162,
   "metadata": {},
   "outputs": [],
   "source": [
    "import random"
   ]
  },
  {
   "cell_type": "code",
   "execution_count": 163,
   "metadata": {},
   "outputs": [],
   "source": [
    "def price(rm, k, b):\n",
    "    \"\"\"f(x) = k * x + b\"\"\"\n",
    "    return k * rm + b  "
   ]
  },
  {
   "cell_type": "code",
   "execution_count": 164,
   "metadata": {},
   "outputs": [
    {
     "data": {
      "text/plain": [
       "<matplotlib.collections.PathCollection at 0x1a1f61d5c0>"
      ]
     },
     "execution_count": 164,
     "metadata": {},
     "output_type": "execute_result"
    },
    {
     "data": {
      "image/png": "[encoded data removed]",
      "text/plain": [
       "<Figure size 432x288 with 1 Axes>"
      ]
     },
     "metadata": {
      "needs_background": "light"
     },
     "output_type": "display_data"
    }
   ],
   "source": [
    "x_rm = x[:, 5]\n",
    "k = random.randint(-100, 100)\n",
    "b = random.randint(-100, 100)\n",
    "price_by_random_k_and_b = [price(r, k, b) for r in x_rm]\n",
    "\n",
    "draw_rm_and_price()\n",
    "plt.scatter(x_rm, price_by_random_k_and_b)"
   ]
  },
  {
   "cell_type": "code",
   "execution_count": 165,
   "metadata": {},
   "outputs": [],
   "source": [
    "def loss(y,y_hat):\n",
    "    return sum((y_i-y_hat_i)**2 for y_i, y_hat_i in zip(list(y), list(y_hat))) / len(y)"
   ]
  },
  {
   "cell_type": "markdown",
   "metadata": {},
   "source": [
    "## First-Method: Random generation: get best k and best b"
   ]
  },
  {
   "cell_type": "code",
   "execution_count": 166,
   "metadata": {},
   "outputs": [
    {
     "name": "stdout",
     "output_type": "stream",
     "text": [
      "When time is : 0, get best_k: 36.62682207023792 best_b: 18.2748159121291, and the loss is: 51460.42061862882\n",
      "When time is : 3, get best_k: -15.523918482795708 best_b: 81.0713947216405, and the loss is: 1865.2297542535607\n",
      "When time is : 12, get best_k: 11.356571367098667 best_b: -43.65850010221912, and the loss is: 72.94326354879625\n",
      "When time is : 908, get best_k: 8.11712094824668 best_b: -29.185765058227602, and the loss is: 44.57620242228653\n"
     ]
    }
   ],
   "source": [
    "trying_times = 2000\n",
    "\n",
    "min_loss = float('inf')\n",
    "best_k, best_b = None, None\n",
    "\n",
    "for i in range(trying_times):\n",
    "    k = random.random() * 200 - 100\n",
    "    b = random.random() * 200 - 100\n",
    "    price_by_random_k_and_b = [price(r, k, b) for r in x_rm]\n",
    "\n",
    "    current_loss = loss(y, price_by_random_k_and_b)\n",
    "    \n",
    "    if current_loss < min_loss:\n",
    "        min_loss = current_loss\n",
    "        best_k, best_b = k, b\n",
    "        print('When time is : {}, get best_k: {} best_b: {}, and the loss is: {}'.format(i, best_k, best_b, min_loss))"
   ]
  },
  {
   "cell_type": "markdown",
   "metadata": {},
   "source": [
    "## 方法一图像"
   ]
  },
  {
   "cell_type": "code",
   "execution_count": 167,
   "metadata": {},
   "outputs": [
    {
     "data": {
      "text/plain": [
       "<matplotlib.collections.PathCollection at 0x1a1f85f358>"
      ]
     },
     "execution_count": 167,
     "metadata": {},
     "output_type": "execute_result"
    },
    {
     "data": {
      "image/png": "[encoded data removed]",
      "text/plain": [
       "<Figure size 432x288 with 1 Axes>"
      ]
     },
     "metadata": {
      "needs_background": "light"
     },
     "output_type": "display_data"
    }
   ],
   "source": [
    "x_rm = x[:, 5]\n",
    "k = 9.193791618649499\n",
    "b = -35.70327768273354\n",
    "price_by_random_k_and_b = [price(r, k, b) for r in x_rm]\n",
    "\n",
    "draw_rm_and_price()\n",
    "plt.scatter(x_rm, price_by_random_k_and_b)  "
   ]
  },
  {
   "cell_type": "markdown",
   "metadata": {},
   "source": [
    "## 2nd-Method: Direction Adjusting"
   ]
  },
  {
   "cell_type": "code",
   "execution_count": 168,
   "metadata": {},
   "outputs": [
    {
     "name": "stdout",
     "output_type": "stream",
     "text": [
      "When time is : 11, get best_k: -26.99473898065608 best_b: -0.12111896352216439, and the loss is: 37667.16761569389\n",
      "When time is : 21, get best_k: -25.994738980656066 best_b: 0.8788810364778356, and the loss is: 34883.399062780096\n",
      "When time is : 31, get best_k: -24.994738980656052 best_b: 1.8788810364778363, and the loss is: 32206.74769661329\n",
      "When time is : 41, get best_k: -23.994738980656038 best_b: 2.878881036477837, and the loss is: 29637.21351719356\n",
      "When time is : 51, get best_k: -22.994738980656024 best_b: 3.878881036477838, and the loss is: 27174.796524520887\n",
      "When time is : 61, get best_k: -21.99473898065601 best_b: 4.878881036477835, and the loss is: 24819.496718595237\n",
      "When time is : 71, get best_k: -20.994738980655995 best_b: 5.878881036477831, and the loss is: 22571.31409941659\n",
      "When time is : 81, get best_k: -19.99473898065598 best_b: 6.878881036477828, and the loss is: 20430.248666985033\n",
      "When time is : 91, get best_k: -18.994738980655967 best_b: 7.878881036477824, and the loss is: 18396.30042130053\n",
      "When time is : 101, get best_k: -17.994738980655953 best_b: 8.878881036477821, and the loss is: 16469.46936236301\n",
      "When time is : 111, get best_k: -16.99473898065594 best_b: 9.878881036477818, and the loss is: 14649.755490172547\n",
      "When time is : 121, get best_k: -15.994738980655926 best_b: 10.878881036477814, and the loss is: 12937.158804729137\n",
      "When time is : 131, get best_k: -14.99473898065593 best_b: 11.87888103647781, and the loss is: 11331.679306032787\n",
      "When time is : 141, get best_k: -13.994738980655933 best_b: 12.878881036477807, and the loss is: 9833.316994083449\n",
      "When time is : 151, get best_k: -12.994738980655937 best_b: 13.878881036477804, and the loss is: 8442.071868881176\n",
      "When time is : 161, get best_k: -11.99473898065594 best_b: 14.8788810364778, and the loss is: 7157.943930425917\n",
      "When time is : 171, get best_k: -10.994738980655944 best_b: 15.878881036477797, and the loss is: 5980.933178717695\n",
      "When time is : 181, get best_k: -9.994738980655947 best_b: 16.878881036477807, and the loss is: 4911.039613756514\n",
      "When time is : 191, get best_k: -8.994738980655951 best_b: 17.87888103647782, and the loss is: 3948.2632355423566\n",
      "When time is : 201, get best_k: -7.994738980655955 best_b: 18.878881036477836, and the loss is: 3092.6040440752436\n",
      "When time is : 211, get best_k: -6.994738980655958 best_b: 19.87888103647785, and the loss is: 2344.0620393551612\n",
      "When time is : 221, get best_k: -5.994738980655962 best_b: 20.878881036477864, and the loss is: 1702.637221382114\n",
      "When time is : 231, get best_k: -4.994738980655965 best_b: 21.87888103647788, and the loss is: 1168.329590156103\n",
      "When time is : 241, get best_k: -3.9947389806559683 best_b: 22.878881036477893, and the loss is: 741.139145677126\n",
      "When time is : 251, get best_k: -2.9947389806559674 best_b: 23.878881036477907, and the loss is: 421.0658879451864\n",
      "When time is : 261, get best_k: -1.9947389806559666 best_b: 24.87888103647792, and the loss is: 208.1098169602812\n",
      "When time is : 271, get best_k: -0.9947389806559658 best_b: 25.878881036477935, and the loss is: 102.2709327224126\n"
     ]
    }
   ],
   "source": [
    "trying_times = 2000\n",
    "\n",
    "min_loss = float('inf')\n",
    "best_k = random.random() * 200 - 100\n",
    "best_b =  random.random() * 200 - 100\n",
    "\n",
    "direction = [\n",
    "    (+1, -1),  # first element: k's change direction, second element: b's change direction\n",
    "    (+1, +1), \n",
    "    (-1, -1), \n",
    "    (-1, +1),\n",
    "]\n",
    "\n",
    "scalar = 0.1\n",
    "\n",
    "update_time = 0\n",
    "\n",
    "next_direction = random.choice(direction)\n",
    "\n",
    "for i in range(trying_times):\n",
    "    \n",
    "    k_direction, b_direction = next_direction\n",
    "    \n",
    "    current_k, current_b = best_k + k_direction * scalar, best_b + b_direction * scalar\n",
    "    \n",
    "    price_by_random_k_and_b = [price(r, current_k, current_b) for r in x_rm]\n",
    "\n",
    "    current_loss = loss(y, price_by_random_k_and_b)\n",
    "    \n",
    "    if current_loss < min_loss:\n",
    "        min_loss = current_loss\n",
    "        best_k, best_b = current_k, current_b\n",
    "        next_direction = next_direction\n",
    "        update_time += 1\n",
    "\n",
    "        if update_time % 10 == 0: \n",
    "            print('When time is : {}, get best_k: {} best_b: {}, and the loss is: {}'.format(i, best_k, best_b, min_loss))\n",
    "    else:\n",
    "        next_direction = random.choice(direction)\n",
    "        \n",
    "        "
   ]
  },
  {
   "cell_type": "code",
   "execution_count": 169,
   "metadata": {},
   "outputs": [
    {
     "data": {
      "text/plain": [
       "<matplotlib.collections.PathCollection at 0x1a1f7cf358>"
      ]
     },
     "execution_count": 169,
     "metadata": {},
     "output_type": "execute_result"
    },
    {
     "data": {
      "image/png": "[encoded data removed]",
      "text/plain": [
       "<Figure size 432x288 with 1 Axes>"
      ]
     },
     "metadata": {
      "needs_background": "light"
     },
     "output_type": "display_data"
    }
   ],
   "source": [
    "x_rm = x[:, 5]\n",
    "k = 5.641762419855564\n",
    "b = -12.580950337295315\n",
    "price_by_random_k_and_b = [price(r, k, b) for r in x_rm]\n",
    "\n",
    "draw_rm_and_price()\n",
    "plt.scatter(x_rm, price_by_random_k_and_b)  "
   ]
  },
  {
   "cell_type": "markdown",
   "metadata": {},
   "source": [
    "## 导数"
   ]
  },
  {
   "cell_type": "code",
   "execution_count": 170,
   "metadata": {},
   "outputs": [],
   "source": [
    "def partial_k(x, y, y_hat):\n",
    "    n = len(y)\n",
    "\n",
    "    gradient = 0\n",
    "    \n",
    "    for x_i, y_i, y_hat_i in zip(list(x), list(y), list(y_hat)):\n",
    "        gradient += (y_i - y_hat_i) * x_i\n",
    "    \n",
    "    return -2 / n * gradient\n",
    "\n",
    "\n",
    "def partial_b(x, y, y_hat):\n",
    "    n = len(y)\n",
    "\n",
    "    gradient = 0\n",
    "    \n",
    "    for y_i, y_hat_i in zip(list(y), list(y_hat)):\n",
    "        gradient += (y_i - y_hat_i)\n",
    "    \n",
    "    return -2 / n * gradient"
   ]
  },
  {
   "cell_type": "code",
   "execution_count": 171,
   "metadata": {},
   "outputs": [
    {
     "name": "stdout",
     "output_type": "stream",
     "text": [
      "When time is : 0, get best_k: -0.4947389806559659 best_b: 26.378881036477942, and the loss is: 302687.4851696677\n",
      "When time is : 50, get best_k: -0.4947389806559659 best_b: 26.378881036477942, and the loss is: 48.40632963048952\n",
      "When time is : 100, get best_k: -0.4947389806559659 best_b: 26.378881036477942, and the loss is: 48.292128880366256\n",
      "When time is : 150, get best_k: -0.4947389806559659 best_b: 26.378881036477942, and the loss is: 48.1806419076397\n",
      "When time is : 200, get best_k: -0.4947389806559659 best_b: 26.378881036477942, and the loss is: 48.07180422422436\n",
      "When time is : 250, get best_k: -0.4947389806559659 best_b: 26.378881036477942, and the loss is: 47.96555287447885\n",
      "When time is : 300, get best_k: -0.4947389806559659 best_b: 26.378881036477942, and the loss is: 47.86182639879081\n",
      "When time is : 350, get best_k: -0.4947389806559659 best_b: 26.378881036477942, and the loss is: 47.76056479802579\n",
      "When time is : 400, get best_k: -0.4947389806559659 best_b: 26.378881036477942, and the loss is: 47.66170949882204\n",
      "When time is : 450, get best_k: -0.4947389806559659 best_b: 26.378881036477942, and the loss is: 47.56520331970944\n",
      "When time is : 500, get best_k: -0.4947389806559659 best_b: 26.378881036477942, and the loss is: 47.470990438033546\n",
      "When time is : 550, get best_k: -0.4947389806559659 best_b: 26.378881036477942, and the loss is: 47.379016357665925\n",
      "When time is : 600, get best_k: -0.4947389806559659 best_b: 26.378881036477942, and the loss is: 47.289227877481395\n",
      "When time is : 650, get best_k: -0.4947389806559659 best_b: 26.378881036477942, and the loss is: 47.20157306058519\n",
      "When time is : 700, get best_k: -0.4947389806559659 best_b: 26.378881036477942, and the loss is: 47.11600120426982\n",
      "When time is : 750, get best_k: -0.4947389806559659 best_b: 26.378881036477942, and the loss is: 47.03246281068758\n",
      "When time is : 800, get best_k: -0.4947389806559659 best_b: 26.378881036477942, and the loss is: 46.950909558218896\n",
      "When time is : 850, get best_k: -0.4947389806559659 best_b: 26.378881036477942, and the loss is: 46.87129427352143\n",
      "When time is : 900, get best_k: -0.4947389806559659 best_b: 26.378881036477942, and the loss is: 46.79357090424325\n",
      "When time is : 950, get best_k: -0.4947389806559659 best_b: 26.378881036477942, and the loss is: 46.71769449238453\n",
      "When time is : 1000, get best_k: -0.4947389806559659 best_b: 26.378881036477942, and the loss is: 46.64362114829236\n",
      "When time is : 1050, get best_k: -0.4947389806559659 best_b: 26.378881036477942, and the loss is: 46.57130802527299\n",
      "When time is : 1100, get best_k: -0.4947389806559659 best_b: 26.378881036477942, and the loss is: 46.500713294808236\n",
      "When time is : 1150, get best_k: -0.4947389806559659 best_b: 26.378881036477942, and the loss is: 46.43179612236005\n",
      "When time is : 1200, get best_k: -0.4947389806559659 best_b: 26.378881036477942, and the loss is: 46.364516643750505\n",
      "When time is : 1250, get best_k: -0.4947389806559659 best_b: 26.378881036477942, and the loss is: 46.29883594210277\n",
      "When time is : 1300, get best_k: -0.4947389806559659 best_b: 26.378881036477942, and the loss is: 46.23471602533031\n",
      "When time is : 1350, get best_k: -0.4947389806559659 best_b: 26.378881036477942, and the loss is: 46.17211980416088\n",
      "When time is : 1400, get best_k: -0.4947389806559659 best_b: 26.378881036477942, and the loss is: 46.111011070682665\n",
      "When time is : 1450, get best_k: -0.4947389806559659 best_b: 26.378881036477942, and the loss is: 46.05135447740036\n",
      "When time is : 1500, get best_k: -0.4947389806559659 best_b: 26.378881036477942, and the loss is: 45.993115516789004\n",
      "When time is : 1550, get best_k: -0.4947389806559659 best_b: 26.378881036477942, and the loss is: 45.93626050133346\n",
      "When time is : 1600, get best_k: -0.4947389806559659 best_b: 26.378881036477942, and the loss is: 45.880756544042356\n",
      "When time is : 1650, get best_k: -0.4947389806559659 best_b: 26.378881036477942, and the loss is: 45.826571539425096\n",
      "When time is : 1700, get best_k: -0.4947389806559659 best_b: 26.378881036477942, and the loss is: 45.77367414492084\n",
      "When time is : 1750, get best_k: -0.4947389806559659 best_b: 26.378881036477942, and the loss is: 45.722033762769\n",
      "When time is : 1800, get best_k: -0.4947389806559659 best_b: 26.378881036477942, and the loss is: 45.671620522310135\n",
      "When time is : 1850, get best_k: -0.4947389806559659 best_b: 26.378881036477942, and the loss is: 45.62240526270787\n",
      "When time is : 1900, get best_k: -0.4947389806559659 best_b: 26.378881036477942, and the loss is: 45.574359516081174\n",
      "When time is : 1950, get best_k: -0.4947389806559659 best_b: 26.378881036477942, and the loss is: 45.52745549103749\n"
     ]
    }
   ],
   "source": [
    "trying_times = 2000\n",
    "\n",
    "# X, y = data['data'], data['target']\n",
    "\n",
    "min_loss = float('inf') \n",
    "\n",
    "current_k = random.random() * 200 - 100\n",
    "current_b = random.random() * 200 - 100\n",
    "\n",
    "learning_rate = 1e-02\n",
    "\n",
    "update_time = 0\n",
    "\n",
    "for i in range(trying_times):\n",
    "    \n",
    "    price_by_k_and_b = [price(r, current_k, current_b) for r in x_rm]\n",
    "    \n",
    "    current_loss = loss(y, price_by_k_and_b)\n",
    "\n",
    "    if current_loss < min_loss: # performance became better\n",
    "        min_loss = current_loss\n",
    "        \n",
    "        if i % 50 == 0: \n",
    "            print('When time is : {}, get best_k: {} best_b: {}, and the loss is: {}'.format(i, best_k, best_b, min_loss))\n",
    "\n",
    "    k_gradient = partial_k(x_rm, y, price_by_k_and_b)\n",
    "    \n",
    "    b_gradient = partial_b(x_rm, y, price_by_k_and_b)\n",
    "    \n",
    "    current_k = current_k + (-1 * k_gradient) * learning_rate\n",
    "\n",
    "    current_b = current_b + (-1 * b_gradient) * learning_rate"
   ]
  },
  {
   "cell_type": "markdown",
   "metadata": {},
   "source": [
    "## 图像"
   ]
  },
  {
   "cell_type": "code",
   "execution_count": 172,
   "metadata": {},
   "outputs": [
    {
     "data": {
      "text/plain": [
       "<matplotlib.collections.PathCollection at 0x1a1f773ef0>"
      ]
     },
     "execution_count": 172,
     "metadata": {},
     "output_type": "execute_result"
    },
    {
     "data": {
      "image/png": "[encoded data removed]",
      "text/plain": [
       "<Figure size 432x288 with 1 Axes>"
      ]
     },
     "metadata": {
      "needs_background": "light"
     },
     "output_type": "display_data"
    }
   ],
   "source": [
    "x_rm = x[:, 5]\n",
    "k = 5.641762419855564\n",
    "b = -12.580950337295315\n",
    "price_by_random_k_and_b = [price(r, k, b) for r in x_rm]\n",
    "\n",
    "draw_rm_and_price()\n",
    "plt.scatter(x_rm, price_by_random_k_and_b)  "
   ]
  },
  {
   "cell_type": "markdown",
   "metadata": {},
   "source": [
    "## 绝对值求导"
   ]
  },
  {
   "cell_type": "code",
   "execution_count": 179,
   "metadata": {},
   "outputs": [],
   "source": [
    "def abs_k(x, y, y_hat):\n",
    "    n = len(y)\n",
    "\n",
    "    gradient = 0\n",
    "    \n",
    "    for x_i, y_i, y_hat_i in zip(list(x), list(y), list(y_hat)):\n",
    "        if y_i - y_hat_i > 0 :\n",
    "            gradient += x_i\n",
    "        elif y_i - y_hat_i < 0 :\n",
    "            gradient += -x_i\n",
    "        else:\n",
    "            continue\n",
    "    \n",
    "    return -1 * gradient / n \n",
    "\n",
    "\n",
    "def abs_b(x, y, y_hat):\n",
    "    n = len(y)\n",
    "\n",
    "    gradient = 0\n",
    "    \n",
    "    for y_i, y_hat_i in zip(list(y), list(y_hat)):\n",
    "        if y_i - y_hat_i > 0 :\n",
    "            gradient += 1\n",
    "        elif y_i - y_hat_i < 0 :\n",
    "            gradient += -1\n",
    "        else:\n",
    "            continue\n",
    "    \n",
    "    return -1 / n * gradient\n"
   ]
  },
  {
   "cell_type": "code",
   "execution_count": 182,
   "metadata": {},
   "outputs": [
    {
     "name": "stdout",
     "output_type": "stream",
     "text": [
      "When time is : 0, get best_k: -0.4947389806559659 best_b: 26.378881036477942, and the loss is: 13015.799460184144\n",
      "When time is : 50, get best_k: -0.4947389806559659 best_b: 26.378881036477942, and the loss is: 8791.425868967772\n",
      "When time is : 100, get best_k: -0.4947389806559659 best_b: 26.378881036477942, and the loss is: 5396.770673605782\n",
      "When time is : 150, get best_k: -0.4947389806559659 best_b: 26.378881036477942, and the loss is: 2831.833874098079\n",
      "When time is : 200, get best_k: -0.4947389806559659 best_b: 26.378881036477942, and the loss is: 1096.6154704446883\n",
      "When time is : 250, get best_k: -0.4947389806559659 best_b: 26.378881036477942, and the loss is: 194.79283450682252\n",
      "When time is : 300, get best_k: -0.4947389806559659 best_b: 26.378881036477942, and the loss is: 46.623868613366795\n",
      "When time is : 350, get best_k: -0.4947389806559659 best_b: 26.378881036477942, and the loss is: 46.09576657425181\n",
      "When time is : 450, get best_k: -0.4947389806559659 best_b: 26.378881036477942, and the loss is: 46.086074080118806\n",
      "When time is : 500, get best_k: -0.4947389806559659 best_b: 26.378881036477942, and the loss is: 46.08189739702487\n",
      "When time is : 600, get best_k: -0.4947389806559659 best_b: 26.378881036477942, and the loss is: 46.07199874892425\n",
      "When time is : 700, get best_k: -0.4947389806559659 best_b: 26.378881036477942, and the loss is: 46.06212633689224\n",
      "When time is : 800, get best_k: -0.4947389806559659 best_b: 26.378881036477942, and the loss is: 46.052280160928845\n",
      "When time is : 900, get best_k: -0.4947389806559659 best_b: 26.378881036477942, and the loss is: 46.042460221034084\n",
      "When time is : 1000, get best_k: -0.4947389806559659 best_b: 26.378881036477942, and the loss is: 46.032666517207915\n",
      "When time is : 1100, get best_k: -0.4947389806559659 best_b: 26.378881036477942, and the loss is: 46.022899049450366\n",
      "When time is : 1200, get best_k: -0.4947389806559659 best_b: 26.378881036477942, and the loss is: 46.013157817761424\n",
      "When time is : 1300, get best_k: -0.4947389806559659 best_b: 26.378881036477942, and the loss is: 46.00344282214109\n",
      "When time is : 1400, get best_k: -0.4947389806559659 best_b: 26.378881036477942, and the loss is: 45.99375406258936\n",
      "When time is : 1500, get best_k: -0.4947389806559659 best_b: 26.378881036477942, and the loss is: 45.984091539106274\n",
      "When time is : 1600, get best_k: -0.4947389806559659 best_b: 26.378881036477942, and the loss is: 45.97445525169184\n",
      "When time is : 1700, get best_k: -0.4947389806559659 best_b: 26.378881036477942, and the loss is: 45.96486449434925\n",
      "When time is : 1850, get best_k: -0.4947389806559659 best_b: 26.378881036477942, and the loss is: 45.95040567666305\n"
     ]
    }
   ],
   "source": [
    "trying_times = 2000\n",
    "\n",
    "# X, y = data['data'], data['target']\n",
    "\n",
    "min_loss = float('inf') \n",
    "\n",
    "current_k = random.random() * 200 - 100\n",
    "current_b = random.random() * 200 - 100\n",
    "\n",
    "learning_rate = 1e-02\n",
    "\n",
    "update_time = 0\n",
    "\n",
    "for i in range(trying_times):\n",
    "    \n",
    "    price_by_k_and_b = [price(r, current_k, current_b) for r in x_rm]\n",
    "    \n",
    "    current_loss = loss(y, price_by_k_and_b)\n",
    "\n",
    "    if current_loss < min_loss: # performance became better\n",
    "        min_loss = current_loss\n",
    "        \n",
    "        if i % 50 == 0: \n",
    "            print('When time is : {}, get best_k: {} best_b: {}, and the loss is: {}'.format(i, best_k, best_b, min_loss))\n",
    "\n",
    "    k_gradient = abs_k(x_rm, y, price_by_k_and_b)\n",
    "    \n",
    "    b_gradient = abs_b(x_rm, y, price_by_k_and_b)\n",
    "    \n",
    "    current_k = current_k + (-1 * k_gradient) * learning_rate\n",
    "\n",
    "    current_b = current_b + (-1 * b_gradient) * learning_rate"
   ]
  },
  {
   "cell_type": "code",
   "execution_count": 154,
   "metadata": {},
   "outputs": [
    {
     "data": {
      "text/plain": [
       "<matplotlib.collections.PathCollection at 0x1a1d597c18>"
      ]
     },
     "execution_count": 154,
     "metadata": {},
     "output_type": "execute_result"
    },
    {
     "data": {
      "image/png": "[encoded data removed]",
      "text/plain": [
       "<Figure size 432x288 with 1 Axes>"
      ]
     },
     "metadata": {
      "needs_background": "light"
     },
     "output_type": "display_data"
    }
   ],
   "source": [
    "x_rm = x[:, 5]\n",
    "k = 5.641762419855564\n",
    "b = -12.580950337295315\n",
    "price_by_random_k_and_b = [price(r, k, b) for r in x_rm]\n",
    "\n",
    "draw_rm_and_price()\n",
    "plt.scatter(x_rm, price_by_random_k_and_b)  "
   ]
  },
  {
   "cell_type": "code",
   "execution_count": null,
   "metadata": {},
   "outputs": [],
   "source": []
  }
 ],
 "metadata": {
  "kernelspec": {
   "display_name": "Python 3",
   "language": "python",
   "name": "python3"
  },
  "language_info": {
   "codemirror_mode": {
    "name": "ipython",
    "version": 3
   },
   "file_extension": ".py",
   "mimetype": "text/x-python",
   "name": "python",
   "nbconvert_exporter": "python",
   "pygments_lexer": "ipython3",
   "version": "3.7.1"
  }
 },
 "nbformat": 4,
 "nbformat_minor": 2
}
