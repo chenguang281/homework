{
 "cells": [
  {
   "cell_type": "code",
   "execution_count": 1,
   "metadata": {},
   "outputs": [],
   "source": [
    "from sklearn.datasets import load_boston"
   ]
  },
  {
   "cell_type": "code",
   "execution_count": 2,
   "metadata": {},
   "outputs": [],
   "source": [
    "data = load_boston()"
   ]
  },
  {
   "cell_type": "code",
   "execution_count": 3,
   "metadata": {},
   "outputs": [],
   "source": [
    "x, y = data['data'], data['target']"
   ]
  },
  {
   "cell_type": "code",
   "execution_count": 4,
   "metadata": {},
   "outputs": [],
   "source": [
    "%matplotlib inline"
   ]
  },
  {
   "cell_type": "code",
   "execution_count": 5,
   "metadata": {},
   "outputs": [],
   "source": [
    "import matplotlib.pyplot as plt"
   ]
  },
  {
   "cell_type": "code",
   "execution_count": 13,
   "metadata": {},
   "outputs": [],
   "source": [
    "def draw_rm_and_price():\n",
    "    plt.scatter(x[:, 5], y)"
   ]
  },
  {
   "cell_type": "code",
   "execution_count": 14,
   "metadata": {},
   "outputs": [],
   "source": [
    "import random"
   ]
  },
  {
   "cell_type": "code",
   "execution_count": 19,
   "metadata": {},
   "outputs": [],
   "source": [
    "def price(rm, k, b):\n",
    "    \"\"\"f(x) = k * x + b\"\"\"\n",
    "    return k * rm + b  "
   ]
  },
  {
   "cell_type": "code",
   "execution_count": 22,
   "metadata": {},
   "outputs": [
    {
     "data": {
      "text/plain": [
       "<matplotlib.collections.PathCollection at 0x1a1ace8ef0>"
      ]
     },
     "execution_count": 22,
     "metadata": {},
     "output_type": "execute_result"
    },
    {
     "data": {
      "image/png": "[encoded data removed]",
      "text/plain": [
       "<Figure size 432x288 with 1 Axes>"
      ]
     },
     "metadata": {
      "needs_background": "light"
     },
     "output_type": "display_data"
    }
   ],
   "source": [
    "x_rm = x[:, 5]\n",
    "k = random.randint(-100, 100)\n",
    "b = random.randint(-100, 100)\n",
    "price_by_random_k_and_b = [price(r, k, b) for r in x_rm]\n",
    "\n",
    "draw_rm_and_price()\n",
    "plt.scatter(x_rm, price_by_random_k_and_b)"
   ]
  },
  {
   "cell_type": "code",
   "execution_count": 28,
   "metadata": {},
   "outputs": [],
   "source": [
    "def loss(y,y_hat):\n",
    "    return sum((y_i-y_hat_i)**2 for y_i, y_hat_i in zip(list(y), list(y_hat))) / len(y)"
   ]
  },
  {
   "cell_type": "markdown",
   "metadata": {},
   "source": [
    "## First-Method: Random generation: get best k and best b"
   ]
  },
  {
   "cell_type": "code",
   "execution_count": 32,
   "metadata": {},
   "outputs": [
    {
     "name": "stdout",
     "output_type": "stream",
     "text": [
      "When time is : 0, get best_k: 34.37849177199743 best_b: -72.0170357562501, and the loss is: 15122.188869945974\n",
      "When time is : 3, get best_k: 4.304910071355735 best_b: -29.53339022498551, and the loss is: 680.5096688262051\n",
      "When time is : 19, get best_k: 1.0182510797595086 best_b: 36.325604960774, and the loss is: 483.519863620779\n",
      "When time is : 24, get best_k: 11.069564347216755 best_b: -33.05952383763983, and the loss is: 240.83166855828551\n",
      "When time is : 100, get best_k: 18.143107775775817 best_b: -83.80089050334843, and the loss is: 142.99558337279126\n",
      "When time is : 119, get best_k: 16.470219099533495 best_b: -75.49729288869727, and the loss is: 100.37020494316927\n",
      "When time is : 354, get best_k: 4.073299108730026 best_b: -1.0034167125310631, and the loss is: 60.3161419771681\n",
      "When time is : 418, get best_k: 7.17751803832121 best_b: -25.007816083747116, and the loss is: 51.34279835366271\n",
      "When time is : 496, get best_k: 11.692555669773299 best_b: -51.67961820372393, and the loss is: 47.43816284683563\n",
      "When time is : 1527, get best_k: 8.738251569781369 best_b: -31.608955308581656, and the loss is: 44.26633552015056\n",
      "When time is : 1947, get best_k: 9.193791618649499 best_b: -35.70327768273354, and the loss is: 43.81305356430343\n"
     ]
    }
   ],
   "source": [
    "trying_times = 2000\n",
    "\n",
    "min_loss = float('inf')\n",
    "best_k, best_b = None, None\n",
    "\n",
    "for i in range(trying_times):\n",
    "    k = random.random() * 200 - 100\n",
    "    b = random.random() * 200 - 100\n",
    "    price_by_random_k_and_b = [price(r, k, b) for r in x_rm]\n",
    "\n",
    "    current_loss = loss(y, price_by_random_k_and_b)\n",
    "    \n",
    "    if current_loss < min_loss:\n",
    "        min_loss = current_loss\n",
    "        best_k, best_b = k, b\n",
    "        print('When time is : {}, get best_k: {} best_b: {}, and the loss is: {}'.format(i, best_k, best_b, min_loss))"
   ]
  },
  {
   "cell_type": "markdown",
   "metadata": {},
   "source": [
    "## 方法一图像"
   ]
  },
  {
   "cell_type": "code",
   "execution_count": 33,
   "metadata": {},
   "outputs": [
    {
     "data": {
      "text/plain": [
       "<matplotlib.collections.PathCollection at 0x1a1ae61a20>"
      ]
     },
     "execution_count": 33,
     "metadata": {},
     "output_type": "execute_result"
    },
    {
     "data": {
      "image/png": "[encoded data removed]",
      "text/plain": [
       "<Figure size 432x288 with 1 Axes>"
      ]
     },
     "metadata": {
      "needs_background": "light"
     },
     "output_type": "display_data"
    }
   ],
   "source": [
    "x_rm = x[:, 5]\n",
    "k = 9.193791618649499\n",
    "b = -35.70327768273354\n",
    "price_by_random_k_and_b = [price(r, k, b) for r in x_rm]\n",
    "\n",
    "draw_rm_and_price()\n",
    "plt.scatter(x_rm, price_by_random_k_and_b)  "
   ]
  },
  {
   "cell_type": "markdown",
   "metadata": {},
   "source": [
    "## 2nd-Method: Direction Adjusting"
   ]
  },
  {
   "cell_type": "code",
   "execution_count": 69,
   "metadata": {},
   "outputs": [
    {
     "name": "stdout",
     "output_type": "stream",
     "text": [
      "When time is : 11, get best_k: 72.76981307627949 best_b: 10.846458227987071, and the loss is: 200640.53092000986\n",
      "When time is : 21, get best_k: 71.76981307627955 best_b: 9.846458227987075, and the loss is: 194138.62549944845\n",
      "When time is : 31, get best_k: 70.7698130762796 best_b: 8.846458227987078, and the loss is: 187743.8372656344\n",
      "When time is : 41, get best_k: 69.76981307627966 best_b: 7.846458227987082, and the loss is: 181456.1662185675\n",
      "When time is : 51, get best_k: 68.76981307627972 best_b: 6.846458227987085, and the loss is: 175275.6123582476\n",
      "When time is : 61, get best_k: 67.76981307627977 best_b: 5.846458227987089, and the loss is: 169202.17568467488\n",
      "When time is : 71, get best_k: 66.76981307627983 best_b: 4.8464582279870925, and the loss is: 163235.85619784897\n",
      "When time is : 81, get best_k: 65.76981307627989 best_b: 3.846458227987095, and the loss is: 157376.65389777013\n",
      "When time is : 91, get best_k: 64.76981307627995 best_b: 2.8464582279870942, and the loss is: 151624.5687844382\n",
      "When time is : 101, get best_k: 63.76981307627998 best_b: 1.8464582279870934, and the loss is: 145979.6008578534\n",
      "When time is : 111, get best_k: 62.769813076279966 best_b: 0.8464582279870927, and the loss is: 140441.75011801525\n",
      "When time is : 121, get best_k: 61.76981307627995 best_b: -0.15354177201290722, and the loss is: 135011.01656492415\n",
      "When time is : 131, get best_k: 60.76981307627994 best_b: -1.1535417720129073, and the loss is: 129687.40019858023\n",
      "When time is : 141, get best_k: 59.769813076279924 best_b: -2.153541772012908, and the loss is: 124470.90101898303\n",
      "When time is : 151, get best_k: 58.76981307627991 best_b: -3.153541772012909, and the loss is: 119361.51902613314\n",
      "When time is : 161, get best_k: 57.769813076279895 best_b: -4.153541772012909, and the loss is: 114359.25422003024\n",
      "When time is : 171, get best_k: 56.76981307627988 best_b: -5.153541772012906, and the loss is: 109464.1066006744\n",
      "When time is : 181, get best_k: 55.76981307627987 best_b: -6.153541772012902, and the loss is: 104676.07616806554\n",
      "When time is : 191, get best_k: 54.76981307627985 best_b: -7.153541772012899, and the loss is: 99995.1629222037\n",
      "When time is : 201, get best_k: 53.76981307627984 best_b: -8.153541772012895, and the loss is: 95421.36686308887\n",
      "When time is : 211, get best_k: 52.769813076279824 best_b: -9.153541772012892, and the loss is: 90954.68799072117\n",
      "When time is : 221, get best_k: 51.76981307627981 best_b: -10.153541772012888, and the loss is: 86595.12630510051\n",
      "When time is : 231, get best_k: 50.769813076279796 best_b: -11.153541772012884, and the loss is: 82342.68180622681\n",
      "When time is : 241, get best_k: 49.76981307627978 best_b: -12.15354177201288, and the loss is: 78197.35449410022\n",
      "When time is : 251, get best_k: 48.76981307627977 best_b: -13.153541772012877, and the loss is: 74159.14436872062\n",
      "When time is : 261, get best_k: 47.76981307627975 best_b: -14.153541772012874, and the loss is: 70228.051430088\n",
      "When time is : 271, get best_k: 46.76981307627974 best_b: -15.15354177201287, and the loss is: 66404.0756782026\n",
      "When time is : 281, get best_k: 45.769813076279725 best_b: -16.15354177201287, and the loss is: 62687.21711306402\n",
      "When time is : 291, get best_k: 44.76981307627971 best_b: -17.153541772012883, and the loss is: 59077.475734672735\n",
      "When time is : 301, get best_k: 43.769813076279696 best_b: -18.153541772012897, and the loss is: 55574.85154302834\n",
      "When time is : 311, get best_k: 42.76981307627968 best_b: -19.15354177201291, and the loss is: 52179.34453813096\n",
      "When time is : 321, get best_k: 41.76981307627967 best_b: -20.153541772012925, and the loss is: 48890.9547199806\n",
      "When time is : 331, get best_k: 40.769813076279654 best_b: -21.15354177201294, and the loss is: 45709.68208857739\n",
      "When time is : 341, get best_k: 39.76981307627964 best_b: -22.153541772012954, and the loss is: 42635.52664392111\n",
      "When time is : 351, get best_k: 38.769813076279625 best_b: -23.153541772012968, and the loss is: 39668.488386011886\n",
      "When time is : 361, get best_k: 37.76981307627961 best_b: -24.153541772012982, and the loss is: 36808.56731484972\n",
      "When time is : 371, get best_k: 36.7698130762796 best_b: -25.153541772012996, and the loss is: 34055.7634304346\n",
      "When time is : 381, get best_k: 35.76981307627958 best_b: -26.15354177201301, and the loss is: 31410.076732766534\n",
      "When time is : 391, get best_k: 34.76981307627957 best_b: -27.153541772013025, and the loss is: 28871.507221845455\n",
      "When time is : 401, get best_k: 33.769813076279554 best_b: -28.15354177201304, and the loss is: 26440.05489767143\n",
      "When time is : 411, get best_k: 32.76981307627954 best_b: -29.153541772013053, and the loss is: 24115.719760244512\n",
      "When time is : 421, get best_k: 31.769813076279526 best_b: -30.153541772013067, and the loss is: 21898.50180956457\n",
      "When time is : 431, get best_k: 30.76981307627951 best_b: -31.15354177201308, and the loss is: 19788.401045631686\n",
      "When time is : 441, get best_k: 29.769813076279497 best_b: -32.15354177201309, and the loss is: 17785.4174684458\n",
      "When time is : 451, get best_k: 28.769813076279483 best_b: -33.15354177201311, and the loss is: 15889.551078007018\n",
      "When time is : 461, get best_k: 27.76981307627947 best_b: -34.15354177201312, and the loss is: 14100.801874315226\n",
      "When time is : 471, get best_k: 26.769813076279455 best_b: -35.153541772013135, and the loss is: 12419.169857370493\n",
      "When time is : 481, get best_k: 25.76981307627944 best_b: -36.15354177201315, and the loss is: 10844.65502717279\n",
      "When time is : 491, get best_k: 24.769813076279426 best_b: -37.15354177201316, and the loss is: 9377.25738372212\n",
      "When time is : 501, get best_k: 23.769813076279412 best_b: -38.15354177201318, and the loss is: 8016.9769270185\n",
      "When time is : 511, get best_k: 22.769813076279398 best_b: -39.15354177201319, and the loss is: 6763.8136570619145\n",
      "When time is : 521, get best_k: 21.769813076279384 best_b: -40.153541772013206, and the loss is: 5617.767573852377\n",
      "When time is : 531, get best_k: 20.76981307627937 best_b: -41.15354177201322, and the loss is: 4578.838677389865\n",
      "When time is : 541, get best_k: 19.769813076279355 best_b: -42.153541772013234, and the loss is: 3647.026967674393\n",
      "When time is : 551, get best_k: 18.76981307627934 best_b: -43.15354177201325, and the loss is: 2822.332444705969\n",
      "When time is : 561, get best_k: 17.769813076279327 best_b: -44.15354177201326, and the loss is: 2104.7551084845745\n",
      "When time is : 571, get best_k: 16.769813076279313 best_b: -45.15354177201328, and the loss is: 1494.2949590102191\n",
      "When time is : 581, get best_k: 15.769813076279304 best_b: -46.15354177201329, and the loss is: 990.9519962829081\n",
      "When time is : 591, get best_k: 14.769813076279307 best_b: -47.153541772013305, and the loss is: 594.7262203026373\n",
      "When time is : 601, get best_k: 13.769813076279311 best_b: -48.15354177201332, and the loss is: 305.6176310694014\n",
      "When time is : 611, get best_k: 12.769813076279315 best_b: -49.153541772013334, and the loss is: 123.62622858320081\n",
      "When time is : 621, get best_k: 11.769813076279318 best_b: -50.15354177201335, and the loss is: 48.75201284403576\n"
     ]
    }
   ],
   "source": [
    "trying_times = 2000\n",
    "\n",
    "min_loss = float('inf')\n",
    "best_k = random.random() * 200 - 100\n",
    "best_b =  random.random() * 200 - 100\n",
    "\n",
    "direction = [\n",
    "    (+1, -1),  # first element: k's change direction, second element: b's change direction\n",
    "    (+1, +1), \n",
    "    (-1, -1), \n",
    "    (-1, +1),\n",
    "]\n",
    "\n",
    "scalar = 0.1\n",
    "\n",
    "update_time = 0\n",
    "\n",
    "next_direction = random.choice(direction)\n",
    "\n",
    "for i in range(trying_times):\n",
    "    \n",
    "    k_direction, b_direction = next_direction\n",
    "    \n",
    "    current_k, current_b = best_k + k_direction * scalar, best_b + b_direction * scalar\n",
    "    \n",
    "    price_by_random_k_and_b = [price(r, current_k, current_b) for r in x_rm]\n",
    "\n",
    "    current_loss = loss(y, price_by_random_k_and_b)\n",
    "    \n",
    "    if current_loss < min_loss:\n",
    "        min_loss = current_loss\n",
    "        best_k, best_b = current_k, current_b\n",
    "        next_direction = next_direction\n",
    "        update_time += 1\n",
    "\n",
    "        if update_time % 10 == 0: \n",
    "            print('When time is : {}, get best_k: {} best_b: {}, and the loss is: {}'.format(i, best_k, best_b, min_loss))\n",
    "    else:\n",
    "        next_direction = random.choice(direction)\n",
    "        \n",
    "        "
   ]
  },
  {
   "cell_type": "code",
   "execution_count": 70,
   "metadata": {},
   "outputs": [
    {
     "data": {
      "text/plain": [
       "<matplotlib.collections.PathCollection at 0x1a1b578390>"
      ]
     },
     "execution_count": 70,
     "metadata": {},
     "output_type": "execute_result"
    },
    {
     "data": {
      "image/png": "[encoded data removed]",
      "text/plain": [
       "<Figure size 432x288 with 1 Axes>"
      ]
     },
     "metadata": {
      "needs_background": "light"
     },
     "output_type": "display_data"
    }
   ],
   "source": [
    "x_rm = x[:, 5]\n",
    "k = 11.769813076279318\n",
    "b = -50.15354177201335\n",
    "price_by_random_k_and_b = [price(r, k, b) for r in x_rm]\n",
    "\n",
    "draw_rm_and_price()\n",
    "plt.scatter(x_rm, price_by_random_k_and_b)  "
   ]
  },
  {
   "cell_type": "markdown",
   "metadata": {},
   "source": [
    "## 导数"
   ]
  },
  {
   "cell_type": "code",
   "execution_count": 71,
   "metadata": {},
   "outputs": [],
   "source": [
    "def partial_k(x, y, y_hat):\n",
    "    n = len(y)\n",
    "\n",
    "    gradient = 0\n",
    "    \n",
    "    for x_i, y_i, y_hat_i in zip(list(x), list(y), list(y_hat)):\n",
    "        gradient += (y_i - y_hat_i) * x_i\n",
    "    \n",
    "    return -2 / n * gradient\n",
    "\n",
    "\n",
    "def partial_b(x, y, y_hat):\n",
    "    n = len(y)\n",
    "\n",
    "    gradient = 0\n",
    "    \n",
    "    for y_i, y_hat_i in zip(list(y), list(y_hat)):\n",
    "        gradient += (y_i - y_hat_i)\n",
    "    \n",
    "    return -2 / n * gradient"
   ]
  },
  {
   "cell_type": "code",
   "execution_count": 77,
   "metadata": {},
   "outputs": [
    {
     "name": "stdout",
     "output_type": "stream",
     "text": [
      "When time is : 0, get best_k: 11.569813076279319 best_b: -50.35354177201335, and the loss is: 392313.56449306716\n",
      "When time is : 50, get best_k: 11.569813076279319 best_b: -50.35354177201335, and the loss is: 43.61871247348817\n",
      "When time is : 100, get best_k: 11.569813076279319 best_b: -50.35354177201335, and the loss is: 43.61828091674787\n",
      "When time is : 150, get best_k: 11.569813076279319 best_b: -50.35354177201335, and the loss is: 43.6178596151848\n",
      "When time is : 200, get best_k: 11.569813076279319 best_b: -50.35354177201335, and the loss is: 43.61744832510284\n",
      "When time is : 250, get best_k: 11.569813076279319 best_b: -50.35354177201335, and the loss is: 43.617046808597046\n",
      "When time is : 300, get best_k: 11.569813076279319 best_b: -50.35354177201335, and the loss is: 43.616654833415765\n",
      "When time is : 350, get best_k: 11.569813076279319 best_b: -50.35354177201335, and the loss is: 43.61627217282643\n",
      "When time is : 400, get best_k: 11.569813076279319 best_b: -50.35354177201335, and the loss is: 43.615898605484404\n",
      "When time is : 450, get best_k: 11.569813076279319 best_b: -50.35354177201335, and the loss is: 43.615533915304745\n",
      "When time is : 500, get best_k: 11.569813076279319 best_b: -50.35354177201335, and the loss is: 43.61517789133759\n",
      "When time is : 550, get best_k: 11.569813076279319 best_b: -50.35354177201335, and the loss is: 43.61483032764588\n",
      "When time is : 600, get best_k: 11.569813076279319 best_b: -50.35354177201335, and the loss is: 43.614491023186055\n",
      "When time is : 650, get best_k: 11.569813076279319 best_b: -50.35354177201335, and the loss is: 43.61415978169239\n",
      "When time is : 700, get best_k: 11.569813076279319 best_b: -50.35354177201335, and the loss is: 43.613836411562744\n",
      "When time is : 750, get best_k: 11.569813076279319 best_b: -50.35354177201335, and the loss is: 43.61352072574822\n",
      "When time is : 800, get best_k: 11.569813076279319 best_b: -50.35354177201335, and the loss is: 43.61321254164472\n",
      "When time is : 850, get best_k: 11.569813076279319 best_b: -50.35354177201335, and the loss is: 43.61291168098741\n",
      "When time is : 900, get best_k: 11.569813076279319 best_b: -50.35354177201335, and the loss is: 43.612617969747795\n",
      "When time is : 950, get best_k: 11.569813076279319 best_b: -50.35354177201335, and the loss is: 43.612331238032525\n",
      "When time is : 1000, get best_k: 11.569813076279319 best_b: -50.35354177201335, and the loss is: 43.61205131998567\n",
      "When time is : 1050, get best_k: 11.569813076279319 best_b: -50.35354177201335, and the loss is: 43.61177805369268\n",
      "When time is : 1100, get best_k: 11.569813076279319 best_b: -50.35354177201335, and the loss is: 43.61151128108627\n",
      "When time is : 1150, get best_k: 11.569813076279319 best_b: -50.35354177201335, and the loss is: 43.6112508478557\n",
      "When time is : 1200, get best_k: 11.569813076279319 best_b: -50.35354177201335, and the loss is: 43.61099660335686\n",
      "When time is : 1250, get best_k: 11.569813076279319 best_b: -50.35354177201335, and the loss is: 43.610748400525694\n",
      "When time is : 1300, get best_k: 11.569813076279319 best_b: -50.35354177201335, and the loss is: 43.61050609579267\n",
      "When time is : 1350, get best_k: 11.569813076279319 best_b: -50.35354177201335, and the loss is: 43.61026954899999\n",
      "When time is : 1400, get best_k: 11.569813076279319 best_b: -50.35354177201335, and the loss is: 43.610038623320506\n",
      "When time is : 1450, get best_k: 11.569813076279319 best_b: -50.35354177201335, and the loss is: 43.60981318517838\n",
      "When time is : 1500, get best_k: 11.569813076279319 best_b: -50.35354177201335, and the loss is: 43.60959310417214\n",
      "When time is : 1550, get best_k: 11.569813076279319 best_b: -50.35354177201335, and the loss is: 43.609378252998965\n",
      "When time is : 1600, get best_k: 11.569813076279319 best_b: -50.35354177201335, and the loss is: 43.60916850738125\n",
      "When time is : 1650, get best_k: 11.569813076279319 best_b: -50.35354177201335, and the loss is: 43.608963745994444\n",
      "When time is : 1700, get best_k: 11.569813076279319 best_b: -50.35354177201335, and the loss is: 43.60876385039733\n",
      "When time is : 1750, get best_k: 11.569813076279319 best_b: -50.35354177201335, and the loss is: 43.60856870496294\n",
      "When time is : 1800, get best_k: 11.569813076279319 best_b: -50.35354177201335, and the loss is: 43.60837819681218\n",
      "When time is : 1850, get best_k: 11.569813076279319 best_b: -50.35354177201335, and the loss is: 43.608192215748275\n",
      "When time is : 1900, get best_k: 11.569813076279319 best_b: -50.35354177201335, and the loss is: 43.60801065419305\n",
      "When time is : 1950, get best_k: 11.569813076279319 best_b: -50.35354177201335, and the loss is: 43.60783340712476\n"
     ]
    }
   ],
   "source": [
    "trying_times = 2000\n",
    "\n",
    "# X, y = data['data'], data['target']\n",
    "\n",
    "min_loss = float('inf') \n",
    "\n",
    "current_k = random.random() * 200 - 100\n",
    "current_b = random.random() * 200 - 100\n",
    "\n",
    "learning_rate = 1e-02\n",
    "\n",
    "update_time = 0\n",
    "\n",
    "for i in range(trying_times):\n",
    "    \n",
    "    price_by_k_and_b = [price(r, current_k, current_b) for r in x_rm]\n",
    "    \n",
    "    current_loss = loss(y, price_by_k_and_b)\n",
    "\n",
    "    if current_loss < min_loss: # performance became better\n",
    "        min_loss = current_loss\n",
    "        \n",
    "        if i % 50 == 0: \n",
    "            print('When time is : {}, get best_k: {} best_b: {}, and the loss is: {}'.format(i, best_k, best_b, min_loss))\n",
    "\n",
    "    k_gradient = partial_k(x_rm, y, price_by_k_and_b)\n",
    "    \n",
    "    b_gradient = partial_b(x_rm, y, price_by_k_and_b)\n",
    "    \n",
    "    current_k = current_k + (-1 * k_gradient) * learning_rate\n",
    "\n",
    "    current_b = current_b + (-1 * b_gradient) * learning_rate"
   ]
  },
  {
   "cell_type": "markdown",
   "metadata": {},
   "source": [
    "## 图像"
   ]
  },
  {
   "cell_type": "code",
   "execution_count": 78,
   "metadata": {},
   "outputs": [
    {
     "data": {
      "text/plain": [
       "<matplotlib.collections.PathCollection at 0x1a1b6ae240>"
      ]
     },
     "execution_count": 78,
     "metadata": {},
     "output_type": "execute_result"
    },
    {
     "data": {
      "image/png": "[encoded data removed]",
      "text/plain": [
       "<Figure size 432x288 with 1 Axes>"
      ]
     },
     "metadata": {
      "needs_background": "light"
     },
     "output_type": "display_data"
    }
   ],
   "source": [
    "x_rm = x[:, 5]\n",
    "k = 11.569813076279319\n",
    "b = -50.35354177201335\n",
    "price_by_random_k_and_b = [price(r, k, b) for r in x_rm]\n",
    "\n",
    "draw_rm_and_price()\n",
    "plt.scatter(x_rm, price_by_random_k_and_b)  "
   ]
  },
  {
   "cell_type": "markdown",
   "metadata": {},
   "source": [
    "## 绝对值求导"
   ]
  },
  {
   "cell_type": "code",
   "execution_count": null,
   "metadata": {},
   "outputs": [],
   "source": [
    "def abs_k(x, y, y_hat):\n",
    "    n = len(y)\n",
    "\n",
    "    gradient = 0\n",
    "    \n",
    "    for x_i, y_i, y_hat_i in zip(list(x), list(y), list(y_hat)):\n",
    "        gradient += (y_i - y_hat_i) * x_i\n",
    "    \n",
    "    return -2 / n * gradient\n",
    "\n",
    "\n",
    "def abs_b(x, y, y_hat):\n",
    "    n = len(y)\n",
    "\n",
    "    gradient = 0\n",
    "    \n",
    "    for y_i, y_hat_i in zip(list(y), list(y_hat)):\n",
    "        gradient += (y_i - y_hat_i)\n",
    "    \n",
    "    return -2 / n * gradient"
   ]
  }
 ],
 "metadata": {
  "kernelspec": {
   "display_name": "Python 3",
   "language": "python",
   "name": "python3"
  },
  "language_info": {
   "codemirror_mode": {
    "name": "ipython",
    "version": 3
   },
   "file_extension": ".py",
   "mimetype": "text/x-python",
   "name": "python",
   "nbconvert_exporter": "python",
   "pygments_lexer": "ipython3",
   "version": "3.7.1"
  }
 },
 "nbformat": 4,
 "nbformat_minor": 2
}
