{
 "cells": [
  {
   "cell_type": "code",
   "execution_count": 3,
   "metadata": {},
   "outputs": [],
   "source": [
    "from matplotlib import pyplot as plt\n",
    "\n",
    "import math\n",
    "import networkx as nx"
   ]
  },
  {
   "cell_type": "code",
   "execution_count": 4,
   "metadata": {},
   "outputs": [],
   "source": [
    "\n",
    "def geo_distance(origin, destination):\n",
    "    lat1, lon1 = origin\n",
    "    lat2, lon2 = destination\n",
    "    radius = 6371  # km\n",
    "\n",
    "    dlat = math.radians(lat2 - lat1)\n",
    "    dlon = math.radians(lon2 - lon1)\n",
    "    a = (math.sin(dlat / 2) * math.sin(dlat / 2) +\n",
    "         math.cos(math.radians(lat1)) * math.cos(math.radians(lat2)) *\n",
    "         math.sin(dlon / 2) * math.sin(dlon / 2))\n",
    "    c = 2 * math.atan2(math.sqrt(a), math.sqrt(1 - a))\n",
    "    d = radius * c\n",
    "\n",
    "    return d\n",
    "\n",
    "\n",
    "def get_geo_distance(city1, city2, city_location):\n",
    "    return geo_distance(city_location[city1], city_location[city2])\n"
   ]
  },
  {
   "cell_type": "code",
   "execution_count": 18,
   "metadata": {},
   "outputs": [],
   "source": [
    "draw = {\n",
    "\n",
    "}\n",
    "with open('Data/result_distance.txt', 'r', encoding='utf8') as r:\n",
    "    for line in r.readlines():\n",
    "        line_li = line.split('->')\n",
    "        x, y = line_li[1].strip('\\n').split(',')\n",
    "        draw[line_li[0]] = [float(x)*100, float(y)*100]\n",
    "        r.readline()"
   ]
  },
  {
   "cell_type": "code",
   "execution_count": 19,
   "metadata": {},
   "outputs": [
    {
     "data": {
      "text/plain": [
       "{'苹果园': [11641.1707, 3998.3603000000003],\n",
       " '古城': [11619.7072, 3991.3414000000002],\n",
       " '八角游乐园': [11621.939, 3991.3075999999996],\n",
       " '八宝山': [11624.2277, 3991.3185],\n",
       " '玉泉路': [11625.947, 3991.3500999999997],\n",
       " '五棵松': [11628.0423, 3991.3832999999995],\n",
       " '万寿路': [11630.155, 3991.371],\n",
       " '公主坟': [11631.6696, 3991.3509],\n",
       " '军事博物馆': [11633.0349, 3991.3214000000003],\n",
       " '木樨地': [11634.4097, 3991.3125],\n",
       " '南礼士路': [11635.9221, 3991.2979],\n",
       " '复兴门': [11636.4381, 3991.3014],\n",
       " '西单': [11638.3402, 3991.3356999999996],\n",
       " '天安门西': [11639.805, 3991.3776],\n",
       " '天安门东': [11640.7851, 3991.408],\n",
       " '王府井': [11641.7796, 3991.4397999999997],\n",
       " '东单': [11642.600400000001, 3991.4476],\n",
       " '建国门': [11644.083999999999, 3991.4526],\n",
       " '永安里': [11645.7089, 3991.4223],\n",
       " '国贸': [11646.667, 3991.4138000000003],\n",
       " '大望路': [11648.2387, 3991.413],\n",
       " '四惠': [11650.194500000001, 3991.486],\n",
       " '四惠东': [11652.234699999999, 3991.4943000000003]}"
      ]
     },
     "execution_count": 19,
     "metadata": {},
     "output_type": "execute_result"
    }
   ],
   "source": [
    "draw"
   ]
  },
  {
   "cell_type": "code",
   "execution_count": 21,
   "metadata": {},
   "outputs": [
    {
     "data": {
      "text/plain": [
       "3114.24686115711"
      ]
     },
     "execution_count": 21,
     "metadata": {},
     "output_type": "execute_result"
    }
   ],
   "source": [
    "get_geo_distance('八宝山', '四惠东',draw)"
   ]
  },
  {
   "cell_type": "code",
   "execution_count": 22,
   "metadata": {},
   "outputs": [],
   "source": [
    "station_graph = nx.Graph()"
   ]
  },
  {
   "cell_type": "code",
   "execution_count": 23,
   "metadata": {},
   "outputs": [],
   "source": [
    "station_graph.add_nodes_from(list(draw.keys()))"
   ]
  },
  {
   "cell_type": "code",
   "execution_count": 24,
   "metadata": {},
   "outputs": [],
   "source": [
    "%matplotlib inline"
   ]
  },
  {
   "cell_type": "code",
   "execution_count": 27,
   "metadata": {},
   "outputs": [
    {
     "ename": "NameError",
     "evalue": "name 'city_location' is not defined",
     "output_type": "error",
     "traceback": [
      "\u001b[0;31m---------------------------------------------------------------------------\u001b[0m",
      "\u001b[0;31mNameError\u001b[0m                                 Traceback (most recent call last)",
      "\u001b[0;32m<ipython-input-27-416ea0dd3fef>\u001b[0m in \u001b[0;36m<module>\u001b[0;34m\u001b[0m\n\u001b[0;32m----> 1\u001b[0;31m \u001b[0mnx\u001b[0m\u001b[0;34m.\u001b[0m\u001b[0mdraw\u001b[0m\u001b[0;34m(\u001b[0m\u001b[0mstation_graph\u001b[0m\u001b[0;34m,\u001b[0m \u001b[0mcity_location\u001b[0m\u001b[0;34m,\u001b[0m \u001b[0mwith_labels\u001b[0m\u001b[0;34m=\u001b[0m\u001b[0;32mTrue\u001b[0m\u001b[0;34m,\u001b[0m \u001b[0mnode_size\u001b[0m\u001b[0;34m=\u001b[0m\u001b[0;36m30\u001b[0m\u001b[0;34m)\u001b[0m\u001b[0;34m\u001b[0m\u001b[0;34m\u001b[0m\u001b[0m\n\u001b[0m",
      "\u001b[0;31mNameError\u001b[0m: name 'city_location' is not defined"
     ]
    }
   ],
   "source": [
    "nx.draw(station_graph, city_location, with_labels=True, node_size=30)"
   ]
  },
  {
   "cell_type": "code",
   "execution_count": null,
   "metadata": {},
   "outputs": [],
   "source": []
  }
 ],
 "metadata": {
  "kernelspec": {
   "display_name": "Python 3",
   "language": "python",
   "name": "python3"
  },
  "language_info": {
   "codemirror_mode": {
    "name": "ipython",
    "version": 3
   },
   "file_extension": ".py",
   "mimetype": "text/x-python",
   "name": "python",
   "nbconvert_exporter": "python",
   "pygments_lexer": "ipython3",
   "version": "3.7.1"
  }
 },
 "nbformat": 4,
 "nbformat_minor": 2
}
