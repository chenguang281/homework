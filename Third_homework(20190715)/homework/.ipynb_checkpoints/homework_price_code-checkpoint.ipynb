{
 "cells": [
  {
   "cell_type": "code",
   "execution_count": 1,
   "metadata": {},
   "outputs": [],
   "source": [
    "from sklearn.datasets import load_boston"
   ]
  },
  {
   "cell_type": "code",
   "execution_count": 2,
   "metadata": {},
   "outputs": [],
   "source": [
    "data = load_boston()"
   ]
  },
  {
   "cell_type": "code",
   "execution_count": 3,
   "metadata": {},
   "outputs": [],
   "source": [
    "x , y = data['data'], data['target']"
   ]
  },
  {
   "cell_type": "code",
   "execution_count": 4,
   "metadata": {},
   "outputs": [],
   "source": [
    "from matplotlib import pyplot as plt "
   ]
  },
  {
   "cell_type": "code",
   "execution_count": 5,
   "metadata": {},
   "outputs": [],
   "source": [
    "def draw_rm_and_price():\n",
    "    plt.scatter(x[:,5],y)"
   ]
  },
  {
   "cell_type": "code",
   "execution_count": 6,
   "metadata": {},
   "outputs": [],
   "source": [
    "import random"
   ]
  },
  {
   "cell_type": "code",
   "execution_count": 7,
   "metadata": {},
   "outputs": [],
   "source": [
    "def price(rm, k, b):\n",
    "    return k*rm+b"
   ]
  },
  {
   "cell_type": "code",
   "execution_count": 8,
   "metadata": {},
   "outputs": [
    {
     "data": {
      "text/plain": [
       "<matplotlib.collections.PathCollection at 0x1a225c66a0>"
      ]
     },
     "execution_count": 8,
     "metadata": {},
     "output_type": "execute_result"
    },
    {
     "data": {
      "image/png": "[encoded data removed]",
      "text/plain": [
       "<Figure size 432x288 with 1 Axes>"
      ]
     },
     "metadata": {
      "needs_background": "light"
     },
     "output_type": "display_data"
    }
   ],
   "source": [
    "k = random.randint(-100,100)\n",
    "b = random.randint(-100,100)\n",
    "x_rm = x[:,5]\n",
    "y_rm = [price(r,k,b) for r in x_rm]\n",
    "draw_rm_and_price()\n",
    "plt.scatter(x_rm,y_rm)"
   ]
  },
  {
   "cell_type": "code",
   "execution_count": 9,
   "metadata": {},
   "outputs": [],
   "source": [
    "def loss_abs(y , y_hat):\n",
    "    return sum(abs(y_i - y_hat_i) for y_i,y_hat_i in zip(list(y),list(y_hat)))/len(list(y))"
   ]
  },
  {
   "cell_type": "code",
   "execution_count": 10,
   "metadata": {},
   "outputs": [
    {
     "data": {
      "text/plain": [
       "571.9533102766796"
      ]
     },
     "execution_count": 10,
     "metadata": {},
     "output_type": "execute_result"
    }
   ],
   "source": [
    "loss_abs(data['target'],y_rm)"
   ]
  },
  {
   "cell_type": "code",
   "execution_count": 11,
   "metadata": {},
   "outputs": [],
   "source": [
    "def partial_k(x, y, y_hat):\n",
    "    n = len(y)\n",
    "\n",
    "    gradient = 0\n",
    "    \n",
    "    for x_i, y_i, y_hat_i in zip(list(x), list(y), list(y_hat)):\n",
    "        gradient += (y_i - y_hat_i) * x_i\n",
    "    \n",
    "    return -2 / n * gradient"
   ]
  },
  {
   "cell_type": "code",
   "execution_count": 12,
   "metadata": {},
   "outputs": [],
   "source": [
    "def partial_b(y, y_hat):\n",
    "    n = len(y)\n",
    "    \n",
    "    grandient_b = 0 \n",
    "    for y_i, y_hat_i in zip(list(y), list(y_hat)):\n",
    "        grandient_b += (y_i - y_hat_i) \n",
    "    return -2 / n* grandient_b"
   ]
  },
  {
   "cell_type": "code",
   "execution_count": 16,
   "metadata": {},
   "outputs": [
    {
     "name": "stdout",
     "output_type": "stream",
     "text": [
      "When time is : 0, get best_k: -56.2863360290917 best_b: -89.20899362011336, and the loss is: 465.4808428906911\n",
      "When time is : 50, get best_k: 15.810881715367973 best_b: -77.34591583872835, and the loss is: 5.511890198903045\n",
      "When time is : 100, get best_k: 15.730691439574308 best_b: -76.83581603117608, and the loss is: 5.487766934128891\n",
      "When time is : 150, get best_k: 15.651459681916032 best_b: -76.33181347059742, and the loss is: 5.464166366574071\n",
      "When time is : 200, get best_k: 15.573174985180817 best_b: -75.83383527631273, and the loss is: 5.440932617709163\n",
      "When time is : 250, get best_k: 15.495826029104924 best_b: -75.34180943878845, and the loss is: 5.418069473508399\n",
      "When time is : 300, get best_k: 15.419401628736292 best_b: -74.85566480922456, and the loss is: 5.395568654031262\n",
      "When time is : 350, get best_k: 15.343890732817092 best_b: -74.37533108926588, and the loss is: 5.37342271987837\n",
      "When time is : 400, get best_k: 15.269282422185709 best_b: -73.9007388208368, and the loss is: 5.351741347590831\n",
      "When time is : 450, get best_k: 15.195565908197779 best_b: -73.43181937609738, and the loss is: 5.330687021264617\n",
      "When time is : 500, get best_k: 15.12273053116612 best_b: -72.96850494751948, and the loss is: 5.310294611477874\n",
      "When time is : 550, get best_k: 15.050765758819265 best_b: -72.5107285380814, and the loss is: 5.290145953123731\n",
      "When time is : 600, get best_k: 14.9796611847785 best_b: -72.05842395158007, and the loss is: 5.270238132629847\n",
      "When time is : 650, get best_k: 14.909406527053056 best_b: -71.61152578305887, and the loss is: 5.250568271249968\n",
      "When time is : 700, get best_k: 14.83999162655326 best_b: -71.16996940934948, and the loss is: 5.231133524647607\n",
      "When time is : 750, get best_k: 14.77140644562152 best_b: -70.73369097972744, and the loss is: 5.211990807412406\n",
      "When time is : 800, get best_k: 14.703641066580868 best_b: -70.30262740667918, and the loss is: 5.193531155671987\n",
      "When time is : 850, get best_k: 14.636685690300752 best_b: -69.87671635677884, and the loss is: 5.175579756546586\n",
      "When time is : 900, get best_k: 14.57053063478011 best_b: -69.45589624167512, and the loss is: 5.157842931338616\n",
      "When time is : 950, get best_k: 14.505166333747296 best_b: -69.04010620918515, and the loss is: 5.140318115235963\n",
      "When time is : 1000, get best_k: 14.440583335276743 best_b: -68.629286134495, and the loss is: 5.123185949324611\n",
      "When time is : 1050, get best_k: 14.37677230042222 best_b: -68.22337661146558, and the loss is: 5.106486483401894\n",
      "When time is : 1100, get best_k: 14.31372400186633 best_b: -67.82231894404205, and the loss is: 5.089986626980212\n",
      "When time is : 1150, get best_k: 14.251429322586246 best_b: -67.42605513776627, and the loss is: 5.073754253851519\n",
      "When time is : 1200, get best_k: 14.189879254535345 best_b: -67.03452789139068, and the loss is: 5.0578106017231805\n",
      "When time is : 1250, get best_k: 14.129064897340616 best_b: -66.6476805885922, and the loss is: 5.042307382740841\n",
      "When time is : 1300, get best_k: 14.068977457015622 best_b: -66.26545728978532, and the loss is: 5.027248652334281\n",
      "When time is : 1350, get best_k: 14.009608244688849 best_b: -65.88780272403298, and the loss is: 5.012532408095643\n",
      "When time is : 1400, get best_k: 13.950948675347277 best_b: -65.51466228105424, and the loss is: 4.997992067816029\n",
      "When time is : 1450, get best_k: 13.892990266594955 best_b: -65.14598200332748, and the loss is: 4.983748110324647\n",
      "When time is : 1500, get best_k: 13.835724637426406 best_b: -64.78170857828776, and the loss is: 4.969838676221058\n",
      "When time is : 1550, get best_k: 13.779143507014705 best_b: -64.42178933061786, and the loss is: 4.9565014431278245\n",
      "When time is : 1600, get best_k: 13.723238693514034 best_b: -64.06617221463094, and the loss is: 4.943375566489972\n",
      "When time is : 1650, get best_k: 13.668002112876579 best_b: -63.71480580674489, and the loss is: 4.9305467362088455\n",
      "When time is : 1700, get best_k: 13.613425777683513 best_b: -63.36763929804598, and the loss is: 4.917943485095111\n",
      "When time is : 1750, get best_k: 13.559501795990021 best_b: -63.02462248694186, and the loss is: 4.905600689737859\n",
      "When time is : 1800, get best_k: 13.506222370184055 best_b: -62.68570577190212, and the loss is: 4.893405428393601\n",
      "When time is : 1850, get best_k: 13.453579795858788 best_b: -62.35084014428577, and the loss is: 4.881355937581351\n",
      "When time is : 1900, get best_k: 13.401566460698561 best_b: -62.01997718125453, and the loss is: 4.869450474899089\n",
      "When time is : 1950, get best_k: 13.350174843378044 best_b: -61.693069038770425, and the loss is: 4.857730281669815\n"
     ]
    }
   ],
   "source": [
    "x, y = data['data'], data['target']\n",
    "x_rm = x[:,5]\n",
    "trying_times = 2000\n",
    "\n",
    "min_loss = float('inf')\n",
    "\n",
    "current_k = random.random() * 200 - 100\n",
    "current_b = random.random() * 200 - 100\n",
    " \n",
    "learning_rate = 1e-02\n",
    "\n",
    "\n",
    "\n",
    "for i in range(trying_times):\n",
    "    \n",
    "    price_by_k_and_b = [price(r, current_k, current_b) for r in x_rm]\n",
    "     \n",
    "    current_loss = loss_abs(y, price_by_k_and_b)\n",
    "    \n",
    "    if current_loss < min_loss: # performance became better\n",
    "        \n",
    "        min_loss = current_loss\n",
    "        if i%50==0:\n",
    "            print('When time is : {}, get best_k: {} best_b: {}, and the loss is: {}'.format(i, current_k, current_b, min_loss))\n",
    "    \n",
    "    k_gradient = partial_k(x_rm, y, price_by_k_and_b)\n",
    "    \n",
    "    b_gradient = partial_b(y, price_by_k_and_b)\n",
    "        \n",
    "    current_k = current_k + (-1 * k_gradient)*learning_rate\n",
    "    current_b = current_b + (-1 * b_gradient)*learning_rate"
   ]
  },
  {
   "cell_type": "code",
   "execution_count": 18,
   "metadata": {},
   "outputs": [
    {
     "data": {
      "text/plain": [
       "<matplotlib.collections.PathCollection at 0x1a22bf8e10>"
      ]
     },
     "execution_count": 18,
     "metadata": {},
     "output_type": "execute_result"
    },
    {
     "data": {
      "image/png": "[encoded data removed]",
      "text/plain": [
       "<Figure size 432x288 with 1 Axes>"
      ]
     },
     "metadata": {
      "needs_background": "light"
     },
     "output_type": "display_data"
    }
   ],
   "source": [
    "k = 13.350174843378044\n",
    "b = -61.693069038770425\n",
    "x_rm = x[:,5]\n",
    "y_rm = [price(r,k,b) for r in x_rm]\n",
    "draw_rm_and_price()\n",
    "plt.scatter(x_rm,y_rm)"
   ]
  },
  {
   "cell_type": "code",
   "execution_count": null,
   "metadata": {},
   "outputs": [],
   "source": []
  }
 ],
 "metadata": {
  "kernelspec": {
   "display_name": "Python 3",
   "language": "python",
   "name": "python3"
  },
  "language_info": {
   "codemirror_mode": {
    "name": "ipython",
    "version": 3
   },
   "file_extension": ".py",
   "mimetype": "text/x-python",
   "name": "python",
   "nbconvert_exporter": "python",
   "pygments_lexer": "ipython3",
   "version": "3.7.1"
  }
 },
 "nbformat": 4,
 "nbformat_minor": 2
}
