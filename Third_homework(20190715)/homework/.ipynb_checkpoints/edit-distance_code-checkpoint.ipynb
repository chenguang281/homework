{
 "cells": [
  {
   "cell_type": "code",
   "execution_count": 1,
   "metadata": {},
   "outputs": [],
   "source": [
    "from collections import defaultdict\n",
    "\n",
    "solution = {}\n",
    "\n",
    "candidates = []\n",
    "\n",
    "distance_need = defaultdict(dict)\n",
    "\n",
    "pathes = defaultdict(tuple)"
   ]
  },
  {
   "cell_type": "code",
   "execution_count": 2,
   "metadata": {},
   "outputs": [],
   "source": [
    "def lru_cache(maxsize):\n",
    "    \n",
    "    def decoartor(f):\n",
    "    \n",
    "        def wrap(string1,string2):\n",
    "\n",
    "            if (string1,string2) in solution:\n",
    "\n",
    "                return distance_need[(string1,string2)]\n",
    "\n",
    "            result = f(string1,string2)\n",
    "\n",
    "            distance_need[(string1,string2)] = result\n",
    "\n",
    "            return result\n",
    "\n",
    "        return wrap\n",
    "    \n",
    "    return decoartor"
   ]
  },
  {
   "cell_type": "code",
   "execution_count": 3,
   "metadata": {},
   "outputs": [],
   "source": [
    "@lru_cache(maxsize=2**10)\n",
    "def edit_distance(string1, string2):\n",
    "    \n",
    "    if len(string1) == 0: return len(string2)\n",
    "    if len(string2) == 0: return len(string1)\n",
    "    \n",
    "    tail_s1 = string1[-1]\n",
    "    tail_s2 = string2[-1]\n",
    "    \n",
    "    global candidates\n",
    "    candidates = [\n",
    "        (edit_distance(string1[:-1], string2) + 1, 'DEL {}'.format(tail_s1)),  # string 1 delete tail\n",
    "        (edit_distance(string1, string2[:-1]) + 1, 'ADD {}'.format(tail_s2)),  # string 1 add tail of string2\n",
    "    ]\n",
    "    \n",
    "    if tail_s1 == tail_s2:\n",
    "        both_forward = (edit_distance(string1[:-1], string2[:-1]) + 0, 'No Action')\n",
    "    else:\n",
    "        both_forward = (edit_distance(string1[:-1], string2[:-1]) + 1, 'SUB {} => {}'.format(tail_s1, tail_s2))\n",
    "\n",
    "    candidates.append(both_forward)\n",
    "    \n",
    "    min_distance, operation = min(candidates, key=lambda x: x[0])\n",
    "    pathes[min_distance] = pathes[min_distance] + (operation,)\n",
    "    solution[(string1, string2)] = operation \n",
    "    \n",
    "    return min_distance"
   ]
  },
  {
   "cell_type": "code",
   "execution_count": 4,
   "metadata": {},
   "outputs": [],
   "source": [
    "def parser_solution(string1,string2,solution):\n",
    "    \n",
    "    distance = edit_distance(string1,string2)\n",
    "    \n",
    "    def steps(string1,string2,solution):\n",
    "        \n",
    "        if string1=='' and string2=='':\n",
    "            \n",
    "            return ()\n",
    "        \n",
    "        if string1=='' and string2 !='':\n",
    "            \n",
    "            return tuple(('ADD ' + ' ,ADD '.join(string2)).split(','))\n",
    "        \n",
    "        if string1!='' and string2 =='':\n",
    "            \n",
    "            return tuple(('DEL ' + ' ,DEL '.join(string1)).split(','))\n",
    "            \n",
    "    \n",
    "        result = solution[(string1,string2)]\n",
    "\n",
    "            \n",
    "        if result=='No Action' :\n",
    "            return  None\n",
    "        elif result.split()[0]=='SUB':\n",
    "            \n",
    "\n",
    "            return  steps(string1[:-1],string2[:-1],solution) + ([(string1,string2),solution[(string1,string2)]],)\n",
    "\n",
    "        elif result.split()[0]=='DEL':\n",
    "            \n",
    "            \n",
    "            return steps(string1[:-1],string2,solution) + ([(string1,string2),solution[(string1,string2)]],)\n",
    "\n",
    "        elif result.split()[0]=='ADD':\n",
    "            \n",
    "            \n",
    "            return  steps(string1,string2[:-1],solution) + ([(string1,string2),solution[(string1,string2)]],)\n",
    "            \n",
    "    \n",
    "    return ('总步数：{}'.format(str(distance)),steps(string1,string2,solution))"
   ]
  },
  {
   "cell_type": "code",
   "execution_count": 6,
   "metadata": {},
   "outputs": [
    {
     "data": {
      "text/plain": [
       "('总步数：5',\n",
       " ([('A', 'A'), 'No Action'],\n",
       "  [('AA', 'A'), 'DEL A'],\n",
       "  [('AAA', 'A'), 'DEL A'],\n",
       "  [('AAAB', 'AB'), 'No Action'],\n",
       "  [('AAABB', 'ABD'), 'SUB B => D'],\n",
       "  [('AAABBB', 'ABDD'), 'SUB B => D'],\n",
       "  [('AAABBBC', 'ABDDC'), 'No Action'],\n",
       "  [('AAABBBCC', 'ABDDCC'), 'No Action'],\n",
       "  [('AAABBBCC', 'ABDDCCC'), 'ADD C']))"
      ]
     },
     "execution_count": 6,
     "metadata": {},
     "output_type": "execute_result"
    }
   ],
   "source": [
    "parser_solution('AAABBBCC','ABDDCCC',solution)"
   ]
  },
  {
   "cell_type": "code",
   "execution_count": null,
   "metadata": {},
   "outputs": [],
   "source": []
  }
 ],
 "metadata": {
  "kernelspec": {
   "display_name": "Python 3",
   "language": "python",
   "name": "python3"
  },
  "language_info": {
   "codemirror_mode": {
    "name": "ipython",
    "version": 3
   },
   "file_extension": ".py",
   "mimetype": "text/x-python",
   "name": "python",
   "nbconvert_exporter": "python",
   "pygments_lexer": "ipython3",
   "version": "3.7.1"
  }
 },
 "nbformat": 4,
 "nbformat_minor": 2
}
