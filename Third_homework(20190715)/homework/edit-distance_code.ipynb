{
 "cells": [
  {
   "cell_type": "code",
   "execution_count": 29,
   "metadata": {},
   "outputs": [],
   "source": [
    "solution = {}"
   ]
  },
  {
   "cell_type": "code",
   "execution_count": 58,
   "metadata": {},
   "outputs": [],
   "source": [
    "def edit_distance(string1, string2):\n",
    "    if len(string1) == 0: return len(string2)\n",
    "    if len(string2) == 0: return len(string1)\n",
    "    tail_s1 = string1[-1]\n",
    "    tail_s2 = string2[-1]\n",
    "    \n",
    "    candidates = [\n",
    "        (edit_distance(string1[:-1], string2) + 1, 'DEL {}'.format(tail_s1)),  # string 1 delete tail\n",
    "        (edit_distance(string1, string2[:-1]) + 1, 'ADD {}'.format(tail_s2)),  # string 1 add tail of string2\n",
    "    ]\n",
    "    \n",
    "    if tail_s1 == tail_s2:\n",
    "        both_forward = (edit_distance(string1[:-1], string2[:-1]) + 0, '')\n",
    "    else:\n",
    "        both_forward = (edit_distance(string1[:-1], string2[:-1]) + 1, 'SUB {} => {}'.format(tail_s1, tail_s2))\n",
    "\n",
    "    candidates.append(both_forward)\n",
    "    \n",
    "    min_distance, operation = min(candidates, key=lambda x: x[0])\n",
    "    \n",
    "    solution[(string1, string2)] = operation \n",
    "    \n",
    "    return min_distance"
   ]
  },
  {
   "cell_type": "code",
   "execution_count": 59,
   "metadata": {},
   "outputs": [
    {
     "data": {
      "text/plain": [
       "6"
      ]
     },
     "execution_count": 59,
     "metadata": {},
     "output_type": "execute_result"
    }
   ],
   "source": [
    "edit_distance('ABC','DBDaaaE')"
   ]
  },
  {
   "cell_type": "code",
   "execution_count": 60,
   "metadata": {},
   "outputs": [
    {
     "data": {
      "text/plain": [
       "{('A', 'A'): '',\n",
       " ('A', 'AB'): 'ADD B',\n",
       " ('A', 'ABD'): 'ADD D',\n",
       " ('A', 'ABDE'): 'ADD E',\n",
       " ('AB', 'A'): 'DEL B',\n",
       " ('AB', 'AB'): '',\n",
       " ('AB', 'ABD'): 'ADD D',\n",
       " ('AB', 'ABDE'): 'ADD E',\n",
       " ('ABC', 'A'): 'DEL C',\n",
       " ('ABC', 'AB'): 'DEL C',\n",
       " ('ABC', 'ABD'): 'SUB C => D',\n",
       " ('ABC', 'ABDE'): 'ADD E',\n",
       " ('A', 'ABDa'): 'ADD a',\n",
       " ('A', 'ABDaa'): 'ADD a',\n",
       " ('A', 'ABDaaa'): 'ADD a',\n",
       " ('A', 'ABDaaaE'): 'ADD E',\n",
       " ('AB', 'ABDa'): 'ADD a',\n",
       " ('AB', 'ABDaa'): 'ADD a',\n",
       " ('AB', 'ABDaaa'): 'ADD a',\n",
       " ('AB', 'ABDaaaE'): 'ADD E',\n",
       " ('ABC', 'ABDa'): 'ADD a',\n",
       " ('ABC', 'ABDaa'): 'ADD a',\n",
       " ('ABC', 'ABDaaa'): 'ADD a',\n",
       " ('ABC', 'ABDaaaE'): 'ADD E',\n",
       " ('A', 'D'): 'SUB A => D',\n",
       " ('A', 'DB'): 'ADD B',\n",
       " ('A', 'DBD'): 'ADD D',\n",
       " ('A', 'DBDa'): 'ADD a',\n",
       " ('A', 'DBDaa'): 'ADD a',\n",
       " ('A', 'DBDaaa'): 'ADD a',\n",
       " ('A', 'DBDaaaE'): 'ADD E',\n",
       " ('AB', 'D'): 'DEL B',\n",
       " ('AB', 'DB'): '',\n",
       " ('AB', 'DBD'): 'ADD D',\n",
       " ('AB', 'DBDa'): 'ADD a',\n",
       " ('AB', 'DBDaa'): 'ADD a',\n",
       " ('AB', 'DBDaaa'): 'ADD a',\n",
       " ('AB', 'DBDaaaE'): 'ADD E',\n",
       " ('ABC', 'D'): 'DEL C',\n",
       " ('ABC', 'DB'): 'DEL C',\n",
       " ('ABC', 'DBD'): 'SUB C => D',\n",
       " ('ABC', 'DBDa'): 'ADD a',\n",
       " ('ABC', 'DBDaa'): 'ADD a',\n",
       " ('ABC', 'DBDaaa'): 'ADD a',\n",
       " ('ABC', 'DBDaaaE'): 'ADD E'}"
      ]
     },
     "execution_count": 60,
     "metadata": {},
     "output_type": "execute_result"
    }
   ],
   "source": [
    "solution"
   ]
  },
  {
   "cell_type": "code",
   "execution_count": null,
   "metadata": {},
   "outputs": [],
   "source": []
  }
 ],
 "metadata": {
  "kernelspec": {
   "display_name": "Python 3",
   "language": "python",
   "name": "python3"
  },
  "language_info": {
   "codemirror_mode": {
    "name": "ipython",
    "version": 3
   },
   "file_extension": ".py",
   "mimetype": "text/x-python",
   "name": "python",
   "nbconvert_exporter": "python",
   "pygments_lexer": "ipython3",
   "version": "3.7.1"
  }
 },
 "nbformat": 4,
 "nbformat_minor": 2
}
