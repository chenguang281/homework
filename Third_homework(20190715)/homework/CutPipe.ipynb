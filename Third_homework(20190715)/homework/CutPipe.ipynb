{
 "cells": [
  {
   "cell_type": "code",
   "execution_count": 1,
   "metadata": {},
   "outputs": [],
   "source": [
    "original_price = {1,5,8,9,10,17,18,20,24,30}"
   ]
  },
  {
   "cell_type": "code",
   "execution_count": 2,
   "metadata": {},
   "outputs": [],
   "source": [
    "from collections import defaultdict\n",
    "price = defaultdict(int)"
   ]
  },
  {
   "cell_type": "code",
   "execution_count": 3,
   "metadata": {},
   "outputs": [],
   "source": [
    "for i,p in enumerate(original_price):\n",
    "    price[i+1] = p"
   ]
  },
  {
   "cell_type": "code",
   "execution_count": 5,
   "metadata": {},
   "outputs": [
    {
     "data": {
      "text/plain": [
       "30"
      ]
     },
     "execution_count": 5,
     "metadata": {},
     "output_type": "execute_result"
    }
   ],
   "source": [
    "price[10]"
   ]
  },
  {
   "cell_type": "code",
   "execution_count": 6,
   "metadata": {},
   "outputs": [],
   "source": [
    "from functools import wraps\n",
    "\n",
    "called_time = defaultdict(int)\n",
    "\n",
    "def get_call_time(f):\n",
    "    \n",
    "    @wraps(f)\n",
    "    def wrap (n):\n",
    "        result = f(n)\n",
    "        called_time[(f.__name__,n)] += 1\n",
    "        return result\n",
    "    return wrap"
   ]
  },
  {
   "cell_type": "code",
   "execution_count": 7,
   "metadata": {},
   "outputs": [],
   "source": [
    "def memo(f):\n",
    "    already_computed = {}\n",
    "    def _wrap(arg):\n",
    "        result = None \n",
    "        if arg in already_computed:\n",
    "            result = already_computed[arg]\n",
    "        else:\n",
    "            result = f(arg)\n",
    "            already_computed[arg] = result\n",
    "        return result\n",
    "    return _wrap"
   ]
  },
  {
   "cell_type": "code",
   "execution_count": 8,
   "metadata": {},
   "outputs": [],
   "source": [
    "@memo\n",
    "@get_call_time\n",
    "def r(n):\n",
    "    return max(\n",
    "        [price[n]] + [r(i) + r(n-i) for i in range(1,n)]\n",
    "    )"
   ]
  },
  {
   "cell_type": "code",
   "execution_count": 9,
   "metadata": {},
   "outputs": [
    {
     "data": {
      "text/plain": [
       "373"
      ]
     },
     "execution_count": 9,
     "metadata": {},
     "output_type": "execute_result"
    }
   ],
   "source": [
    "r(125)"
   ]
  },
  {
   "cell_type": "code",
   "execution_count": 10,
   "metadata": {},
   "outputs": [
    {
     "data": {
      "text/plain": [
       "[(('r', 1), 1),\n",
       " (('r', 2), 1),\n",
       " (('r', 3), 1),\n",
       " (('r', 4), 1),\n",
       " (('r', 5), 1),\n",
       " (('r', 6), 1),\n",
       " (('r', 7), 1),\n",
       " (('r', 8), 1),\n",
       " (('r', 9), 1),\n",
       " (('r', 10), 1),\n",
       " (('r', 11), 1),\n",
       " (('r', 12), 1),\n",
       " (('r', 13), 1),\n",
       " (('r', 14), 1),\n",
       " (('r', 15), 1),\n",
       " (('r', 16), 1),\n",
       " (('r', 17), 1),\n",
       " (('r', 18), 1),\n",
       " (('r', 19), 1),\n",
       " (('r', 20), 1),\n",
       " (('r', 21), 1),\n",
       " (('r', 22), 1),\n",
       " (('r', 23), 1),\n",
       " (('r', 24), 1),\n",
       " (('r', 25), 1),\n",
       " (('r', 26), 1),\n",
       " (('r', 27), 1),\n",
       " (('r', 28), 1),\n",
       " (('r', 29), 1),\n",
       " (('r', 30), 1),\n",
       " (('r', 31), 1),\n",
       " (('r', 32), 1),\n",
       " (('r', 33), 1),\n",
       " (('r', 34), 1),\n",
       " (('r', 35), 1),\n",
       " (('r', 36), 1),\n",
       " (('r', 37), 1),\n",
       " (('r', 38), 1),\n",
       " (('r', 39), 1),\n",
       " (('r', 40), 1),\n",
       " (('r', 41), 1),\n",
       " (('r', 42), 1),\n",
       " (('r', 43), 1),\n",
       " (('r', 44), 1),\n",
       " (('r', 45), 1),\n",
       " (('r', 46), 1),\n",
       " (('r', 47), 1),\n",
       " (('r', 48), 1),\n",
       " (('r', 49), 1),\n",
       " (('r', 50), 1),\n",
       " (('r', 51), 1),\n",
       " (('r', 52), 1),\n",
       " (('r', 53), 1),\n",
       " (('r', 54), 1),\n",
       " (('r', 55), 1),\n",
       " (('r', 56), 1),\n",
       " (('r', 57), 1),\n",
       " (('r', 58), 1),\n",
       " (('r', 59), 1),\n",
       " (('r', 60), 1),\n",
       " (('r', 61), 1),\n",
       " (('r', 62), 1),\n",
       " (('r', 63), 1),\n",
       " (('r', 64), 1),\n",
       " (('r', 65), 1),\n",
       " (('r', 66), 1),\n",
       " (('r', 67), 1),\n",
       " (('r', 68), 1),\n",
       " (('r', 69), 1),\n",
       " (('r', 70), 1),\n",
       " (('r', 71), 1),\n",
       " (('r', 72), 1),\n",
       " (('r', 73), 1),\n",
       " (('r', 74), 1),\n",
       " (('r', 75), 1),\n",
       " (('r', 76), 1),\n",
       " (('r', 77), 1),\n",
       " (('r', 78), 1),\n",
       " (('r', 79), 1),\n",
       " (('r', 80), 1),\n",
       " (('r', 81), 1),\n",
       " (('r', 82), 1),\n",
       " (('r', 83), 1),\n",
       " (('r', 84), 1),\n",
       " (('r', 85), 1),\n",
       " (('r', 86), 1),\n",
       " (('r', 87), 1),\n",
       " (('r', 88), 1),\n",
       " (('r', 89), 1),\n",
       " (('r', 90), 1),\n",
       " (('r', 91), 1),\n",
       " (('r', 92), 1),\n",
       " (('r', 93), 1),\n",
       " (('r', 94), 1),\n",
       " (('r', 95), 1),\n",
       " (('r', 96), 1),\n",
       " (('r', 97), 1),\n",
       " (('r', 98), 1),\n",
       " (('r', 99), 1),\n",
       " (('r', 100), 1),\n",
       " (('r', 101), 1),\n",
       " (('r', 102), 1),\n",
       " (('r', 103), 1),\n",
       " (('r', 104), 1),\n",
       " (('r', 105), 1),\n",
       " (('r', 106), 1),\n",
       " (('r', 107), 1),\n",
       " (('r', 108), 1),\n",
       " (('r', 109), 1),\n",
       " (('r', 110), 1),\n",
       " (('r', 111), 1),\n",
       " (('r', 112), 1),\n",
       " (('r', 113), 1),\n",
       " (('r', 114), 1),\n",
       " (('r', 115), 1),\n",
       " (('r', 116), 1),\n",
       " (('r', 117), 1),\n",
       " (('r', 118), 1),\n",
       " (('r', 119), 1),\n",
       " (('r', 120), 1),\n",
       " (('r', 121), 1),\n",
       " (('r', 122), 1),\n",
       " (('r', 123), 1),\n",
       " (('r', 124), 1),\n",
       " (('r', 125), 1)]"
      ]
     },
     "execution_count": 10,
     "metadata": {},
     "output_type": "execute_result"
    }
   ],
   "source": [
    "from collections import Counter\n",
    "Counter(called_time).most_common()"
   ]
  },
  {
   "cell_type": "code",
   "execution_count": null,
   "metadata": {},
   "outputs": [],
   "source": []
  }
 ],
 "metadata": {
  "kernelspec": {
   "display_name": "Python 3",
   "language": "python",
   "name": "python3"
  },
  "language_info": {
   "codemirror_mode": {
    "name": "ipython",
    "version": 3
   },
   "file_extension": ".py",
   "mimetype": "text/x-python",
   "name": "python",
   "nbconvert_exporter": "python",
   "pygments_lexer": "ipython3",
   "version": "3.7.1"
  }
 },
 "nbformat": 4,
 "nbformat_minor": 2
}
