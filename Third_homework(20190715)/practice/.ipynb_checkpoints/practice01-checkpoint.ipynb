{
 "cells": [
  {
   "cell_type": "code",
   "execution_count": 1,
   "metadata": {},
   "outputs": [],
   "source": [
    "from sklearn.datasets import load_boston"
   ]
  },
  {
   "cell_type": "code",
   "execution_count": 2,
   "metadata": {},
   "outputs": [],
   "source": [
    "data = load_boston()"
   ]
  },
  {
   "cell_type": "code",
   "execution_count": 3,
   "metadata": {},
   "outputs": [],
   "source": [
    "x , y = data['data'], data['target']"
   ]
  },
  {
   "cell_type": "code",
   "execution_count": 4,
   "metadata": {},
   "outputs": [],
   "source": [
    "from matplotlib import pyplot as plt "
   ]
  },
  {
   "cell_type": "code",
   "execution_count": 5,
   "metadata": {},
   "outputs": [],
   "source": [
    "def draw_rm_and_price():\n",
    "    plt.scatter(x[:,5],y)"
   ]
  },
  {
   "cell_type": "code",
   "execution_count": 6,
   "metadata": {},
   "outputs": [],
   "source": [
    "import random"
   ]
  },
  {
   "cell_type": "code",
   "execution_count": 7,
   "metadata": {},
   "outputs": [],
   "source": [
    "def price(rm, k, b):\n",
    "    return k*rm+b"
   ]
  },
  {
   "cell_type": "code",
   "execution_count": 9,
   "metadata": {},
   "outputs": [
    {
     "data": {
      "text/plain": [
       "<matplotlib.collections.PathCollection at 0x1a196cfd30>"
      ]
     },
     "execution_count": 9,
     "metadata": {},
     "output_type": "execute_result"
    },
    {
     "data": {
      "image/png": "[encoded data removed]",
      "text/plain": [
       "<Figure size 432x288 with 1 Axes>"
      ]
     },
     "metadata": {
      "needs_background": "light"
     },
     "output_type": "display_data"
    }
   ],
   "source": [
    "k = random.randint(-100,100)\n",
    "b = random.randint(-100,100)\n",
    "x_rm = x[:,5]\n",
    "y_rm = [price(r,k,b) for r in x_rm]\n",
    "draw_rm_and_price()\n",
    "plt.scatter(x_rm,y_rm)"
   ]
  },
  {
   "cell_type": "code",
   "execution_count": 10,
   "metadata": {},
   "outputs": [],
   "source": [
    "def loss(y , y_hat):\n",
    "    return sum((y_i - y_hat_i)**2 for y_i,y_hat_i in zip(list(y),list(y_hat)))/len(list(y))"
   ]
  },
  {
   "cell_type": "code",
   "execution_count": 11,
   "metadata": {},
   "outputs": [],
   "source": [
    "def loss_abs(y , y_hat):\n",
    "    return sum(abs(y_i - y_hat_i) for y_i,y_hat_i in zip(list(y),list(y_hat)))/len(list(y))"
   ]
  },
  {
   "cell_type": "code",
   "execution_count": 11,
   "metadata": {},
   "outputs": [
    {
     "data": {
      "text/plain": [
       "218.77964426877452"
      ]
     },
     "execution_count": 11,
     "metadata": {},
     "output_type": "execute_result"
    }
   ],
   "source": [
    "loss_abs(data['target'],y_rm)"
   ]
  },
  {
   "cell_type": "code",
   "execution_count": 12,
   "metadata": {},
   "outputs": [
    {
     "data": {
      "text/plain": [
       "221.15689910639406"
      ]
     },
     "execution_count": 12,
     "metadata": {},
     "output_type": "execute_result"
    }
   ],
   "source": [
    "loss(data['target'],y_rm)**0.5"
   ]
  },
  {
   "cell_type": "code",
   "execution_count": 13,
   "metadata": {},
   "outputs": [],
   "source": [
    "def partial_k(x, y, y_hat):\n",
    "    n = len(y)\n",
    "\n",
    "    gradient = 0\n",
    "    \n",
    "    for x_i, y_i, y_hat_i in zip(list(x), list(y), list(y_hat)):\n",
    "        gradient += (y_i - y_hat_i) * x_i\n",
    "    \n",
    "    return -2 / n * gradient"
   ]
  },
  {
   "cell_type": "code",
   "execution_count": 14,
   "metadata": {},
   "outputs": [],
   "source": [
    "def partial_b(y, y_hat):\n",
    "    n = len(y)\n",
    "    \n",
    "    grandient_b = 0 \n",
    "    for y_i, y_hat_i in zip(list(y), list(y_hat)):\n",
    "        grandient_b += (y_i - y_hat_i) \n",
    "    return -2 / n* grandient_b"
   ]
  },
  {
   "cell_type": "code",
   "execution_count": 15,
   "metadata": {},
   "outputs": [
    {
     "data": {
      "text/plain": [
       "-2794.343337913046"
      ]
     },
     "execution_count": 15,
     "metadata": {},
     "output_type": "execute_result"
    }
   ],
   "source": [
    "partial_k(x_rm, y , [price(r, k, b) for r in x_rm])"
   ]
  },
  {
   "cell_type": "code",
   "execution_count": 16,
   "metadata": {},
   "outputs": [
    {
     "data": {
      "text/plain": [
       "-437.55928853754904"
      ]
     },
     "execution_count": 16,
     "metadata": {},
     "output_type": "execute_result"
    }
   ],
   "source": [
    "partial_b(y , [price(r, k, b) for r in x_rm])"
   ]
  },
  {
   "cell_type": "code",
   "execution_count": 17,
   "metadata": {},
   "outputs": [
    {
     "name": "stdout",
     "output_type": "stream",
     "text": [
      "When time is : 0, get best_k: -6.117613688971147 best_b: -49.83177374641965, and the loss is: 12436.927051332163\n",
      "When time is : 50, get best_k: 11.037562678330367 best_b: -46.98227014628111, and the loss is: 45.46809172816186\n",
      "When time is : 100, get best_k: 11.014428109325008 best_b: -46.83510842273494, and the loss is: 45.42371296779936\n",
      "When time is : 150, get best_k: 10.991570068910264 best_b: -46.689705730186716, and the loss is: 45.38038878962351\n",
      "When time is : 200, get best_k: 10.968985251726885 best_b: -46.5460410428562, and the loss is: 45.33809413336714\n",
      "When time is : 250, get best_k: 10.94667039192475 best_b: -46.404093586285356, and the loss is: 45.29680453427562\n",
      "When time is : 300, get best_k: 10.92462226269059 best_b: -46.263842834334206, and the loss is: 45.25649610895591\n",
      "When time is : 350, get best_k: 10.902837675781399 best_b: -46.125268506212706, and the loss is: 45.21714554156108\n",
      "When time is : 400, get best_k: 10.881313481063378 best_b: -45.988350563548046, and the loss is: 45.178730070303814\n",
      "When time is : 450, get best_k: 10.860046566056425 best_b: -45.85306920748699, and the loss is: 45.141227474290204\n",
      "When time is : 500, get best_k: 10.83903385548406 best_b: -45.71940487583293, and the loss is: 45.10461606066612\n",
      "When time is : 550, get best_k: 10.818272310828728 best_b: -45.58733824021713, and the loss is: 45.06887465206954\n",
      "When time is : 600, get best_k: 10.797758929892423 best_b: -45.45685020330377, and the loss is: 45.033982574380865\n",
      "When time is : 650, get best_k: 10.777490746362549 best_b: -45.3279218960284, and the loss is: 44.9999196447639\n",
      "When time is : 700, get best_k: 10.75746482938298 best_b: -45.20053467486932, and the loss is: 44.9666661599918\n",
      "When time is : 750, get best_k: 10.737678283130256 best_b: -45.07467011915175, and the loss is: 44.93420288504971\n",
      "When time is : 800, get best_k: 10.718128246394825 best_b: -44.9503100283841, and the loss is: 44.902511042008626\n",
      "When time is : 850, get best_k: 10.698811892167324 best_b: -44.827436419626196, and the loss is: 44.8715722991636\n",
      "When time is : 900, get best_k: 10.679726427229735 best_b: -44.70603152488857, and the loss is: 44.84136876043001\n",
      "When time is : 950, get best_k: 10.660869091751533 best_b: -44.58607778856361, and the loss is: 44.811882954991766\n",
      "When time is : 1000, get best_k: 10.642237158890564 best_b: -44.467557864886565, and the loss is: 44.78309782719569\n",
      "When time is : 1050, get best_k: 10.623827934398758 best_b: -44.35045461542749, and the loss is: 44.7549967266856\n",
      "When time is : 1100, get best_k: 10.605638756232505 best_b: -44.23475110661287, and the loss is: 44.72756339877176\n",
      "When time is : 1150, get best_k: 10.587666994167737 best_b: -44.120430607276994, and the loss is: 44.700781975027795\n",
      "When time is : 1200, get best_k: 10.56991004941957 best_b: -44.00747658624255, and the loss is: 44.67463696411236\n",
      "When time is : 1250, get best_k: 10.552365354266533 best_b: -43.89587270993021, and the loss is: 44.6491132428083\n",
      "When time is : 1300, get best_k: 10.535030371679232 best_b: -43.78560283999665, and the loss is: 44.62419604727476\n",
      "When time is : 1350, get best_k: 10.517902594953515 best_b: -43.67665103100092, and the loss is: 44.599870964507154\n",
      "When time is : 1400, get best_k: 10.500979547347981 best_b: -43.56900152809869, and the loss is: 44.576123924000356\n",
      "When time is : 1450, get best_k: 10.484258781725831 best_b: -43.462638764763994, and the loss is: 44.552941189609804\n",
      "When time is : 1500, get best_k: 10.46773788020101 best_b: -43.357547360538305, and the loss is: 44.530309351605744\n",
      "When time is : 1550, get best_k: 10.451414453788574 best_b: -43.25371211880648, and the loss is: 44.50821531891707\n",
      "When time is : 1600, get best_k: 10.435286142059223 best_b: -43.15111802459917, and the loss is: 44.48664631155824\n",
      "When time is : 1650, get best_k: 10.419350612797976 best_b: -43.04975024242167, and the loss is: 44.46558985323775\n",
      "When time is : 1700, get best_k: 10.403605561666934 best_b: -42.94959411410868, and the loss is: 44.445033764140526\n",
      "When time is : 1750, get best_k: 10.388048711872058 best_b: -42.85063515670461, and the loss is: 44.42496615388341\n",
      "When time is : 1800, get best_k: 10.372677813833926 best_b: -42.7528590603693, and the loss is: 44.40537541463698\n",
      "When time is : 1850, get best_k: 10.357490644862454 best_b: -42.65625168630881, and the loss is: 44.38625021441103\n",
      "When time is : 1900, get best_k: 10.342485008835473 best_b: -42.56079906473089, and the loss is: 44.36757949050005\n",
      "When time is : 1950, get best_k: 10.327658735881155 best_b: -42.466487392824746, and the loss is: 44.349352443083994\n"
     ]
    }
   ],
   "source": [
    "x, y = data['data'], data['target']\n",
    "x_rm = x[:,5]\n",
    "trying_times = 2000\n",
    "\n",
    "min_loss = float('inf')\n",
    "\n",
    "current_k = random.random() * 200 - 100\n",
    "current_b = random.random() * 200 - 100\n",
    " \n",
    "learning_rate = 1e-02\n",
    "\n",
    "\n",
    "\n",
    "for i in range(trying_times):\n",
    "    \n",
    "    price_by_k_and_b = [price(r, current_k, current_b) for r in x_rm]\n",
    "     \n",
    "    current_loss = loss(y, price_by_k_and_b)\n",
    "    \n",
    "    if current_loss < min_loss: # performance became better\n",
    "        \n",
    "        min_loss = current_loss\n",
    "        if i%50==0:\n",
    "            print('When time is : {}, get best_k: {} best_b: {}, and the loss is: {}'.format(i, current_k, current_b, min_loss))\n",
    "    \n",
    "    k_gradient = partial_k(x_rm, y, price_by_k_and_b)\n",
    "    \n",
    "    b_gradient = partial_b(y, price_by_k_and_b)\n",
    "        \n",
    "    current_k = current_k + (-1 * k_gradient)*learning_rate\n",
    "    current_b = current_b + (-1 * b_gradient)*learning_rate\n"
   ]
  },
  {
   "cell_type": "markdown",
   "metadata": {},
   "source": [
    " $loss = \\frac{1}{n}\\sum{(y_i - \\hat(y_i))^2}$ to $loss = \\frac{1}{n}\\sum{|y_i - \\hat{y_i}|}$\n",
    " 有点不会了...."
   ]
  },
  {
   "cell_type": "code",
   "execution_count": 22,
   "metadata": {},
   "outputs": [
    {
     "ename": "IndentationError",
     "evalue": "expected an indented block (<ipython-input-22-0c6988b850be>, line 9)",
     "output_type": "error",
     "traceback": [
      "\u001b[0;36m  File \u001b[0;32m\"<ipython-input-22-0c6988b850be>\"\u001b[0;36m, line \u001b[0;32m9\u001b[0m\n\u001b[0;31m    gradient += (y_i - y_hat_i) * x_i\u001b[0m\n\u001b[0m           ^\u001b[0m\n\u001b[0;31mIndentationError\u001b[0m\u001b[0;31m:\u001b[0m expected an indented block\n"
     ]
    }
   ],
   "source": [
    "def partial_k_abs(x, y, y_hat):\n",
    "    n = len(y)\n",
    "\n",
    "    gradient = 0\n",
    "    \n",
    "    for x_i, y_i, y_hat_i in zip(list(x), list(y), list(y_hat)):\n",
    "        if y_i - y_hat_i > 0:\n",
    "            \n",
    "        gradient += (y_i - y_hat_i) * x_i\n",
    "    \n",
    "    return 1 / n * gradient"
   ]
  },
  {
   "cell_type": "code",
   "execution_count": 21,
   "metadata": {},
   "outputs": [],
   "source": [
    "def partial_b_abs(y, y_hat):\n",
    "    n = len(y)\n",
    "    \n",
    "    grandient_b = 0 \n",
    "    for y_i, y_hat_i in zip(list(y), list(y_hat)):\n",
    "        grandient_b += (y_i - y_hat_i) \n",
    "    return -2 / n* grandient_b"
   ]
  },
  {
   "cell_type": "code",
   "execution_count": null,
   "metadata": {},
   "outputs": [],
   "source": []
  },
  {
   "cell_type": "code",
   "execution_count": null,
   "metadata": {},
   "outputs": [],
   "source": []
  },
  {
   "cell_type": "code",
   "execution_count": 23,
   "metadata": {},
   "outputs": [],
   "source": [
    "original_price = {1,5,8,9,10,17,18,20,24,30}"
   ]
  },
  {
   "cell_type": "code",
   "execution_count": 24,
   "metadata": {},
   "outputs": [],
   "source": [
    "from collections import defaultdict\n",
    "price = defaultdict(int)\n"
   ]
  },
  {
   "cell_type": "code",
   "execution_count": 25,
   "metadata": {},
   "outputs": [],
   "source": [
    "for i,p in enumerate(original_price):\n",
    "    price[i+1] = p"
   ]
  },
  {
   "cell_type": "code",
   "execution_count": 26,
   "metadata": {},
   "outputs": [
    {
     "data": {
      "text/plain": [
       "defaultdict(int,\n",
       "            {1: 1,\n",
       "             2: 5,\n",
       "             3: 8,\n",
       "             4: 9,\n",
       "             5: 10,\n",
       "             6: 17,\n",
       "             7: 18,\n",
       "             8: 20,\n",
       "             9: 24,\n",
       "             10: 30})"
      ]
     },
     "execution_count": 26,
     "metadata": {},
     "output_type": "execute_result"
    }
   ],
   "source": [
    "price"
   ]
  },
  {
   "cell_type": "code",
   "execution_count": 27,
   "metadata": {},
   "outputs": [
    {
     "data": {
      "text/plain": [
       "30"
      ]
     },
     "execution_count": 27,
     "metadata": {},
     "output_type": "execute_result"
    }
   ],
   "source": [
    "price[10]"
   ]
  },
  {
   "cell_type": "code",
   "execution_count": 28,
   "metadata": {},
   "outputs": [],
   "source": [
    "from functools import wraps\n",
    "\n",
    "called_time = defaultdict(int)\n",
    "\n",
    "def get_call_time(f):\n",
    "    \n",
    "    @wraps(f)\n",
    "    def wrap (n):\n",
    "        result = f(n)\n",
    "        called_time[(f.__name__,n)] += 1\n",
    "        return result\n",
    "    return wrap\n",
    "        "
   ]
  },
  {
   "cell_type": "code",
   "execution_count": 29,
   "metadata": {},
   "outputs": [],
   "source": [
    "def memo(f):\n",
    "    already_computed = {}\n",
    "    def _wrap(arg):\n",
    "        result = None \n",
    "        if arg in already_computed:\n",
    "            result = already_computed[arg]\n",
    "        else:\n",
    "            result = f(arg)\n",
    "            already_computed[arg] = result\n",
    "        return result\n",
    "    return _wrap"
   ]
  },
  {
   "cell_type": "code",
   "execution_count": 30,
   "metadata": {},
   "outputs": [],
   "source": [
    "# called_time = defaultdict(int)\n",
    "@memo\n",
    "@get_call_time\n",
    "def r(n):\n",
    "#     fname = r.__name__\n",
    "    \n",
    "#     called_time[(fname , n)] += 1\n",
    "    \n",
    "    return max(\n",
    "        [price[n]] + [r(i) + r(n-i) for i in range(1,n)]\n",
    "    )"
   ]
  },
  {
   "cell_type": "code",
   "execution_count": 31,
   "metadata": {},
   "outputs": [
    {
     "data": {
      "text/plain": [
       "373"
      ]
     },
     "execution_count": 31,
     "metadata": {},
     "output_type": "execute_result"
    }
   ],
   "source": [
    "r(125)"
   ]
  },
  {
   "cell_type": "code",
   "execution_count": 32,
   "metadata": {},
   "outputs": [],
   "source": [
    "from collections import Counter"
   ]
  },
  {
   "cell_type": "code",
   "execution_count": 33,
   "metadata": {},
   "outputs": [
    {
     "data": {
      "text/plain": [
       "[(('r', 1), 1),\n",
       " (('r', 2), 1),\n",
       " (('r', 3), 1),\n",
       " (('r', 4), 1),\n",
       " (('r', 5), 1),\n",
       " (('r', 6), 1),\n",
       " (('r', 7), 1),\n",
       " (('r', 8), 1),\n",
       " (('r', 9), 1),\n",
       " (('r', 10), 1),\n",
       " (('r', 11), 1),\n",
       " (('r', 12), 1),\n",
       " (('r', 13), 1),\n",
       " (('r', 14), 1),\n",
       " (('r', 15), 1),\n",
       " (('r', 16), 1),\n",
       " (('r', 17), 1),\n",
       " (('r', 18), 1),\n",
       " (('r', 19), 1),\n",
       " (('r', 20), 1),\n",
       " (('r', 21), 1),\n",
       " (('r', 22), 1),\n",
       " (('r', 23), 1),\n",
       " (('r', 24), 1),\n",
       " (('r', 25), 1),\n",
       " (('r', 26), 1),\n",
       " (('r', 27), 1),\n",
       " (('r', 28), 1),\n",
       " (('r', 29), 1),\n",
       " (('r', 30), 1),\n",
       " (('r', 31), 1),\n",
       " (('r', 32), 1),\n",
       " (('r', 33), 1),\n",
       " (('r', 34), 1),\n",
       " (('r', 35), 1),\n",
       " (('r', 36), 1),\n",
       " (('r', 37), 1),\n",
       " (('r', 38), 1),\n",
       " (('r', 39), 1),\n",
       " (('r', 40), 1),\n",
       " (('r', 41), 1),\n",
       " (('r', 42), 1),\n",
       " (('r', 43), 1),\n",
       " (('r', 44), 1),\n",
       " (('r', 45), 1),\n",
       " (('r', 46), 1),\n",
       " (('r', 47), 1),\n",
       " (('r', 48), 1),\n",
       " (('r', 49), 1),\n",
       " (('r', 50), 1),\n",
       " (('r', 51), 1),\n",
       " (('r', 52), 1),\n",
       " (('r', 53), 1),\n",
       " (('r', 54), 1),\n",
       " (('r', 55), 1),\n",
       " (('r', 56), 1),\n",
       " (('r', 57), 1),\n",
       " (('r', 58), 1),\n",
       " (('r', 59), 1),\n",
       " (('r', 60), 1),\n",
       " (('r', 61), 1),\n",
       " (('r', 62), 1),\n",
       " (('r', 63), 1),\n",
       " (('r', 64), 1),\n",
       " (('r', 65), 1),\n",
       " (('r', 66), 1),\n",
       " (('r', 67), 1),\n",
       " (('r', 68), 1),\n",
       " (('r', 69), 1),\n",
       " (('r', 70), 1),\n",
       " (('r', 71), 1),\n",
       " (('r', 72), 1),\n",
       " (('r', 73), 1),\n",
       " (('r', 74), 1),\n",
       " (('r', 75), 1),\n",
       " (('r', 76), 1),\n",
       " (('r', 77), 1),\n",
       " (('r', 78), 1),\n",
       " (('r', 79), 1),\n",
       " (('r', 80), 1),\n",
       " (('r', 81), 1),\n",
       " (('r', 82), 1),\n",
       " (('r', 83), 1),\n",
       " (('r', 84), 1),\n",
       " (('r', 85), 1),\n",
       " (('r', 86), 1),\n",
       " (('r', 87), 1),\n",
       " (('r', 88), 1),\n",
       " (('r', 89), 1),\n",
       " (('r', 90), 1),\n",
       " (('r', 91), 1),\n",
       " (('r', 92), 1),\n",
       " (('r', 93), 1),\n",
       " (('r', 94), 1),\n",
       " (('r', 95), 1),\n",
       " (('r', 96), 1),\n",
       " (('r', 97), 1),\n",
       " (('r', 98), 1),\n",
       " (('r', 99), 1),\n",
       " (('r', 100), 1),\n",
       " (('r', 101), 1),\n",
       " (('r', 102), 1),\n",
       " (('r', 103), 1),\n",
       " (('r', 104), 1),\n",
       " (('r', 105), 1),\n",
       " (('r', 106), 1),\n",
       " (('r', 107), 1),\n",
       " (('r', 108), 1),\n",
       " (('r', 109), 1),\n",
       " (('r', 110), 1),\n",
       " (('r', 111), 1),\n",
       " (('r', 112), 1),\n",
       " (('r', 113), 1),\n",
       " (('r', 114), 1),\n",
       " (('r', 115), 1),\n",
       " (('r', 116), 1),\n",
       " (('r', 117), 1),\n",
       " (('r', 118), 1),\n",
       " (('r', 119), 1),\n",
       " (('r', 120), 1),\n",
       " (('r', 121), 1),\n",
       " (('r', 122), 1),\n",
       " (('r', 123), 1),\n",
       " (('r', 124), 1),\n",
       " (('r', 125), 1)]"
      ]
     },
     "execution_count": 33,
     "metadata": {},
     "output_type": "execute_result"
    }
   ],
   "source": [
    "Counter(called_time).most_common()"
   ]
  },
  {
   "cell_type": "code",
   "execution_count": null,
   "metadata": {},
   "outputs": [],
   "source": []
  },
  {
   "cell_type": "code",
   "execution_count": null,
   "metadata": {},
   "outputs": [],
   "source": []
  },
  {
   "cell_type": "code",
   "execution_count": null,
   "metadata": {},
   "outputs": [],
   "source": []
  },
  {
   "cell_type": "code",
   "execution_count": null,
   "metadata": {},
   "outputs": [],
   "source": []
  }
 ],
 "metadata": {
  "kernelspec": {
   "display_name": "Python 3",
   "language": "python",
   "name": "python3"
  },
  "language_info": {
   "codemirror_mode": {
    "name": "ipython",
    "version": 3
   },
   "file_extension": ".py",
   "mimetype": "text/x-python",
   "name": "python",
   "nbconvert_exporter": "python",
   "pygments_lexer": "ipython3",
   "version": "3.7.1"
  }
 },
 "nbformat": 4,
 "nbformat_minor": 2
}
