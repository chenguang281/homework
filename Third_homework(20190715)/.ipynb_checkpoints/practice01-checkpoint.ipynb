{
 "cells": [
  {
   "cell_type": "code",
   "execution_count": 1,
   "metadata": {},
   "outputs": [],
   "source": [
    "from sklearn.datasets import load_boston"
   ]
  },
  {
   "cell_type": "code",
   "execution_count": 2,
   "metadata": {},
   "outputs": [],
   "source": [
    "data = load_boston()"
   ]
  },
  {
   "cell_type": "code",
   "execution_count": 3,
   "metadata": {},
   "outputs": [],
   "source": [
    "x , y = data['data'], data['target']"
   ]
  },
  {
   "cell_type": "code",
   "execution_count": 4,
   "metadata": {},
   "outputs": [],
   "source": [
    "from matplotlib import pyplot as plt "
   ]
  },
  {
   "cell_type": "code",
   "execution_count": 5,
   "metadata": {},
   "outputs": [],
   "source": [
    "def draw_rm_and_price():\n",
    "    plt.scatter(x[:,5],y)"
   ]
  },
  {
   "cell_type": "code",
   "execution_count": 6,
   "metadata": {},
   "outputs": [],
   "source": [
    "import random"
   ]
  },
  {
   "cell_type": "code",
   "execution_count": 7,
   "metadata": {},
   "outputs": [],
   "source": [
    "def price(rm, k, b):\n",
    "    return k*rm+b"
   ]
  },
  {
   "cell_type": "code",
   "execution_count": null,
   "metadata": {},
   "outputs": [],
   "source": []
  },
  {
   "cell_type": "code",
   "execution_count": 26,
   "metadata": {},
   "outputs": [
    {
     "data": {
      "text/plain": [
       "<matplotlib.collections.PathCollection at 0x1a1e8ede10>"
      ]
     },
     "execution_count": 26,
     "metadata": {},
     "output_type": "execute_result"
    },
    {
     "data": {
      "image/png": "[encoded data removed]",
      "text/plain": [
       "<Figure size 432x288 with 1 Axes>"
      ]
     },
     "metadata": {
      "needs_background": "light"
     },
     "output_type": "display_data"
    }
   ],
   "source": [
    "k = random.randint(-100,100)\n",
    "b = random.randint(-100,100)\n",
    "x_rm = x[:,5]\n",
    "y_rm = [price(r,k,b) for r in x_rm]\n",
    "draw_rm_and_price()\n",
    "plt.scatter(x_rm,y_rm)"
   ]
  },
  {
   "cell_type": "code",
   "execution_count": 9,
   "metadata": {},
   "outputs": [],
   "source": [
    "def loss(y , y_hat):\n",
    "    return sum((y_i - y_hat_i)**2 for y_i,y_hat_i in zip(list(y),list(y_hat)))/len(list(y))"
   ]
  },
  {
   "cell_type": "code",
   "execution_count": 10,
   "metadata": {},
   "outputs": [],
   "source": [
    "def loss_abs(y , y_hat):\n",
    "    return sum(abs(y_i - y_hat_i) for y_i,y_hat_i in zip(list(y),list(y_hat)))/len(list(y))"
   ]
  },
  {
   "cell_type": "code",
   "execution_count": 27,
   "metadata": {},
   "outputs": [
    {
     "data": {
      "text/plain": [
       "437.6686758893285"
      ]
     },
     "execution_count": 27,
     "metadata": {},
     "output_type": "execute_result"
    }
   ],
   "source": [
    "loss_abs(data['target'],y_rm)"
   ]
  },
  {
   "cell_type": "code",
   "execution_count": 28,
   "metadata": {},
   "outputs": [
    {
     "data": {
      "text/plain": [
       "440.3819420454692"
      ]
     },
     "execution_count": 28,
     "metadata": {},
     "output_type": "execute_result"
    }
   ],
   "source": [
    "loss(data['target'],y_rm)**0.5"
   ]
  },
  {
   "cell_type": "code",
   "execution_count": 35,
   "metadata": {},
   "outputs": [],
   "source": [
    "def partial_k(x, y, y_hat):\n",
    "    n = len(y)\n",
    "\n",
    "    gradient = 0\n",
    "    \n",
    "    for x_i, y_i, y_hat_i in zip(list(x), list(y), list(y_hat)):\n",
    "        gradient += (y_i - y_hat_i) * x_i\n",
    "    \n",
    "    return -2 / n * gradient"
   ]
  },
  {
   "cell_type": "code",
   "execution_count": 30,
   "metadata": {},
   "outputs": [],
   "source": [
    "def partial_b(y, y_hat):\n",
    "    n = len(y)\n",
    "    \n",
    "    grandient_b = 0 \n",
    "    for y_i, y_hat_i in zip(list(y), list(y_hat)):\n",
    "        grandient_b += (y_i - y_hat_i) \n",
    "    return -2 / n* grandient_b"
   ]
  },
  {
   "cell_type": "code",
   "execution_count": 39,
   "metadata": {},
   "outputs": [
    {
     "data": {
      "text/plain": [
       "5569.066544134384"
      ]
     },
     "execution_count": 39,
     "metadata": {},
     "output_type": "execute_result"
    }
   ],
   "source": [
    "partial_k(x_rm, y , [price(r, k, b) for r in x_rm])"
   ]
  },
  {
   "cell_type": "code",
   "execution_count": 40,
   "metadata": {},
   "outputs": [
    {
     "data": {
      "text/plain": [
       "875.3373517786569"
      ]
     },
     "execution_count": 40,
     "metadata": {},
     "output_type": "execute_result"
    }
   ],
   "source": [
    "partial_b(y , [price(r, k, b) for r in x_rm])"
   ]
  },
  {
   "cell_type": "code",
   "execution_count": 63,
   "metadata": {},
   "outputs": [
    {
     "name": "stdout",
     "output_type": "stream",
     "text": [
      "When time is : 0, get best_k: 80.81481527916867 best_b: 52.118765968259396, and the loss is: 291459.48203938117\n",
      "When time is : 50, get best_k: -2.3445685015006146 best_b: 38.14304550963903, and the loss is: 108.92311585789679\n",
      "When time is : 100, get best_k: -2.2077458275740383 best_b: 37.27270033439214, and the loss is: 107.37084148378784\n",
      "When time is : 150, get best_k: -2.0725586014993556 best_b: 36.412758435929824, and the loss is: 105.85545414505769\n",
      "When time is : 200, get best_k: -1.9389872746915358 best_b: 35.56309546339578, and the loss is: 104.37607728701919\n",
      "When time is : 250, get best_k: -1.8070125322306971 best_b: 34.723588552305294, and the loss is: 102.9318551847452\n",
      "When time is : 300, get best_k: -1.6766152900690983 best_b: 33.89411630677857, and the loss is: 101.52195244808738\n",
      "When time is : 350, get best_k: -1.5477766922715284 best_b: 33.07455878198656, and the loss is: 100.14555353845631\n",
      "When time is : 400, get best_k: -1.4204781082886413 best_b: 32.26479746680628, and the loss is: 98.80186229708401\n",
      "When time is : 450, get best_k: -1.2947011302629403 best_b: 31.464715266683896, and the loss is: 97.49010148449801\n",
      "When time is : 500, get best_k: -1.1704275703669023 best_b: 30.67419648670219, and the loss is: 96.20951233093675\n",
      "When time is : 550, get best_k: -1.0476394581729687 best_b: 29.89312681485078, and the loss is: 94.95935409745064\n",
      "When time is : 600, get best_k: -0.9263190380549396 best_b: 29.121393305496067, and the loss is: 93.73890364743202\n",
      "When time is : 650, get best_k: -0.8064487666204534 best_b: 28.358884363048954, and the loss is: 92.54745502832603\n",
      "When time is : 700, get best_k: -0.6880113101741407 best_b: 27.605489725827653, and the loss is: 91.38431906328344\n",
      "When time is : 750, get best_k: -0.5709895422111064 best_b: 26.861100450113426, and the loss is: 90.2488229525145\n",
      "When time is : 800, get best_k: -0.4553665409403765 best_b: 26.125608894396958, and the loss is: 89.14030988411817\n",
      "When time is : 850, get best_k: -0.34112558683793665 best_b: 25.39890870381293, and the loss is: 88.05813865415847\n",
      "When time is : 900, get best_k: -0.22825016022903097 best_b: 24.68089479476073, and the loss is: 87.00168329576857\n",
      "When time is : 950, get best_k: -0.1167239388993508 best_b: 23.97146333970897, and the loss is: 85.97033271706924\n",
      "When time is : 1000, get best_k: -0.00653079573478693 best_b: 23.27051175218164, and the loss is: 84.96349034769108\n",
      "When time is : 1050, get best_k: 0.10234520361062725 best_b: 22.577938671923643, and the loss is: 83.98057379369706\n",
      "When time is : 1100, get best_k: 0.2099198030188603 best_b: 21.893643950243842, and the loss is: 83.02101450070445\n",
      "When time is : 1150, get best_k: 0.31620855818453064 best_b: 21.217528635533053, and the loss is: 82.08425742501254\n",
      "When time is : 1200, get best_k: 0.42122683886429807 best_b: 20.54949495895538, and the loss is: 81.16976071254577\n",
      "When time is : 1250, get best_k: 0.5249898310994007 best_b: 19.889446320310405, and the loss is: 80.27699538542508\n",
      "When time is : 1300, get best_k: 0.6275125394116178 best_b: 19.237287274064414, and the loss is: 79.40544503598876\n",
      "When time is : 1350, get best_k: 0.728809788972972 best_b: 18.59292351554866, and the loss is: 78.55460552808309\n",
      "When time is : 1400, get best_k: 0.8288962277495043 best_b: 17.956261867322542, and the loss is: 77.72398470545207\n",
      "When time is : 1450, get best_k: 0.9277863286194344 best_b: 17.327210265699783, and the loss is: 76.91310210705629\n",
      "When time is : 1500, get best_k: 1.0254943914659849 best_b: 16.705677747435665, and the loss is: 76.12148868915745\n",
      "When time is : 1550, get best_k: 1.1220345452452023 best_b: 16.09157443657343, and the loss is: 75.34868655400568\n",
      "When time is : 1600, get best_k: 1.2174207500290606 best_b: 15.484811531447829, and the loss is: 74.59424868497582\n",
      "When time is : 1650, get best_k: 1.3116667990241329 best_b: 14.88530129184411, and the loss is: 73.85773868799643\n",
      "When time is : 1700, get best_k: 1.4047863205661493 best_b: 14.292957026310427, and the loss is: 73.13873053912373\n",
      "When time is : 1750, get best_k: 1.4967927800907006 best_b: 13.70769307962193, and the loss is: 72.4368083381141\n",
      "When time is : 1800, get best_k: 1.587699482080395 best_b: 13.129424820394693, and the loss is: 71.75156606785245\n",
      "When time is : 1850, get best_k: 1.6775195719887313 best_b: 12.558068628847716, and the loss is: 71.08260735949706\n",
      "When time is : 1900, get best_k: 1.766266038140989 best_b: 11.993541884711155, and the loss is: 70.42954526320578\n",
      "When time is : 1950, get best_k: 1.8539517136123826 best_b: 11.435762955279136, and the loss is: 69.79200202430998\n"
     ]
    }
   ],
   "source": [
    "x, y = data['data'], data['target']\n",
    "x_rm = x[:,5]\n",
    "trying_times = 2000\n",
    "\n",
    "min_loss = float('inf')\n",
    "\n",
    "current_k = random.random() * 200 - 100\n",
    "current_b = random.random() * 200 - 100\n",
    " \n",
    "learning_rate = 1e-02\n",
    "\n",
    "\n",
    "\n",
    "for i in range(trying_times):\n",
    "    \n",
    "    price_by_k_and_b = [price(r, current_k, current_b) for r in x_rm]\n",
    "     \n",
    "    current_loss = loss(y, price_by_k_and_b)\n",
    "    \n",
    "    if current_loss < min_loss: # performance became better\n",
    "        \n",
    "        min_loss = current_loss\n",
    "        if i%50==0:\n",
    "            print('When time is : {}, get best_k: {} best_b: {}, and the loss is: {}'.format(i, current_k, current_b, min_loss))\n",
    "    \n",
    "    k_gradient = partial_k(x_rm, y, price_by_k_and_b)\n",
    "    \n",
    "    b_gradient = partial_b(y, price_by_k_and_b)\n",
    "        \n",
    "    current_k = current_k + (-1 * k_gradient)*learning_rate\n",
    "    current_b = current_b + (-1 * b_gradient)*learning_rate\n"
   ]
  },
  {
   "cell_type": "markdown",
   "metadata": {},
   "source": [
    " $loss = \\frac{1}{n}\\sum{(y_i - \\hat(y_i))^2}$ to $loss = \\frac{1}{n}\\sum{|y_i - \\hat{y_i}|}$\n",
    " 有点不会了...."
   ]
  },
  {
   "cell_type": "code",
   "execution_count": null,
   "metadata": {},
   "outputs": [],
   "source": [
    "def partial_k_abs(x, y, y_hat):\n",
    "    n = len(y)\n",
    "\n",
    "    gradient = 0\n",
    "    \n",
    "    for x_i, y_i, y_hat_i in zip(list(x), list(y), list(y_hat)):\n",
    "        if y_i - y_hat_i > 0:\n",
    "            \n",
    "        gradient += (y_i - y_hat_i) * x_i\n",
    "    \n",
    "    return 1 / n * gradient"
   ]
  },
  {
   "cell_type": "code",
   "execution_count": 64,
   "metadata": {},
   "outputs": [],
   "source": [
    "def partial_b_abs(y, y_hat):\n",
    "    n = len(y)\n",
    "    \n",
    "    grandient_b = 0 \n",
    "    for y_i, y_hat_i in zip(list(y), list(y_hat)):\n",
    "        grandient_b += (y_i - y_hat_i) \n",
    "    return -2 / n* grandient_b"
   ]
  },
  {
   "cell_type": "code",
   "execution_count": null,
   "metadata": {},
   "outputs": [],
   "source": []
  },
  {
   "cell_type": "code",
   "execution_count": null,
   "metadata": {},
   "outputs": [],
   "source": []
  },
  {
   "cell_type": "code",
   "execution_count": 194,
   "metadata": {},
   "outputs": [],
   "source": [
    "original_price = {1,5,8,9,10,17,18,20,24,30}"
   ]
  },
  {
   "cell_type": "code",
   "execution_count": 195,
   "metadata": {},
   "outputs": [],
   "source": [
    "from collections import defaultdict\n",
    "price = defaultdict(int)\n"
   ]
  },
  {
   "cell_type": "code",
   "execution_count": 196,
   "metadata": {},
   "outputs": [],
   "source": [
    "for i,p in enumerate(original_price):\n",
    "    price[i+1] = p"
   ]
  },
  {
   "cell_type": "code",
   "execution_count": 197,
   "metadata": {},
   "outputs": [
    {
     "data": {
      "text/plain": [
       "defaultdict(int,\n",
       "            {1: 1,\n",
       "             2: 5,\n",
       "             3: 8,\n",
       "             4: 9,\n",
       "             5: 10,\n",
       "             6: 17,\n",
       "             7: 18,\n",
       "             8: 20,\n",
       "             9: 24,\n",
       "             10: 30})"
      ]
     },
     "execution_count": 197,
     "metadata": {},
     "output_type": "execute_result"
    }
   ],
   "source": [
    "price"
   ]
  },
  {
   "cell_type": "code",
   "execution_count": 198,
   "metadata": {},
   "outputs": [
    {
     "data": {
      "text/plain": [
       "30"
      ]
     },
     "execution_count": 198,
     "metadata": {},
     "output_type": "execute_result"
    }
   ],
   "source": [
    "price[10]"
   ]
  },
  {
   "cell_type": "code",
   "execution_count": 218,
   "metadata": {},
   "outputs": [],
   "source": [
    "from functools import wraps\n",
    "\n",
    "called_time = defaultdict(int)\n",
    "\n",
    "def get_call_time(f):\n",
    "    \n",
    "    @wraps(f)\n",
    "    def wrap (n):\n",
    "        result = f(n)\n",
    "        called_time[(f.__name__,n)] += 1\n",
    "        return result\n",
    "    return wrap\n",
    "        "
   ]
  },
  {
   "cell_type": "code",
   "execution_count": 219,
   "metadata": {},
   "outputs": [],
   "source": [
    "def memo(f):\n",
    "    already_computed = {}\n",
    "    def _wrap(arg):\n",
    "        result = None \n",
    "        if arg in already_computed:\n",
    "            result = already_computed[arg]\n",
    "        else:\n",
    "            result = f(arg)\n",
    "            already_computed[arg] = result\n",
    "        return result\n",
    "    return _wrap"
   ]
  },
  {
   "cell_type": "code",
   "execution_count": 220,
   "metadata": {},
   "outputs": [],
   "source": [
    "# called_time = defaultdict(int)\n",
    "@memo\n",
    "@get_call_time\n",
    "def r(n):\n",
    "#     fname = r.__name__\n",
    "    \n",
    "#     called_time[(fname , n)] += 1\n",
    "    \n",
    "    return max(\n",
    "        [price[n]] + [r(i) + r(n-i) for i in range(1,n)]\n",
    "    )"
   ]
  },
  {
   "cell_type": "code",
   "execution_count": 221,
   "metadata": {},
   "outputs": [
    {
     "data": {
      "text/plain": [
       "43"
      ]
     },
     "execution_count": 221,
     "metadata": {},
     "output_type": "execute_result"
    }
   ],
   "source": [
    "r(15)"
   ]
  },
  {
   "cell_type": "code",
   "execution_count": 222,
   "metadata": {},
   "outputs": [],
   "source": [
    "from collections import Counter"
   ]
  },
  {
   "cell_type": "code",
   "execution_count": 223,
   "metadata": {},
   "outputs": [
    {
     "data": {
      "text/plain": [
       "[(('_wrap', 1), 28),\n",
       " (('_wrap', 2), 26),\n",
       " (('_wrap', 3), 24),\n",
       " (('_wrap', 4), 22),\n",
       " (('_wrap', 5), 20),\n",
       " (('_wrap', 6), 18),\n",
       " (('_wrap', 7), 16),\n",
       " (('_wrap', 8), 14),\n",
       " (('_wrap', 9), 12),\n",
       " (('_wrap', 10), 10),\n",
       " (('_wrap', 11), 8),\n",
       " (('_wrap', 12), 6),\n",
       " (('_wrap', 13), 4),\n",
       " (('_wrap', 14), 2),\n",
       " (('_wrap', 15), 1)]"
      ]
     },
     "execution_count": 223,
     "metadata": {},
     "output_type": "execute_result"
    }
   ],
   "source": [
    "Counter(called_time).most_common()"
   ]
  },
  {
   "cell_type": "code",
   "execution_count": null,
   "metadata": {},
   "outputs": [],
   "source": []
  },
  {
   "cell_type": "code",
   "execution_count": null,
   "metadata": {},
   "outputs": [],
   "source": []
  },
  {
   "cell_type": "code",
   "execution_count": null,
   "metadata": {},
   "outputs": [],
   "source": []
  },
  {
   "cell_type": "code",
   "execution_count": null,
   "metadata": {},
   "outputs": [],
   "source": []
  }
 ],
 "metadata": {
  "kernelspec": {
   "display_name": "Python 3",
   "language": "python",
   "name": "python3"
  },
  "language_info": {
   "codemirror_mode": {
    "name": "ipython",
    "version": 3
   },
   "file_extension": ".py",
   "mimetype": "text/x-python",
   "name": "python",
   "nbconvert_exporter": "python",
   "pygments_lexer": "ipython3",
   "version": "3.7.1"
  }
 },
 "nbformat": 4,
 "nbformat_minor": 2
}
